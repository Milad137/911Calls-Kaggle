{
 "cells": [
  {
   "cell_type": "markdown",
   "metadata": {},
   "source": [
    "# Introduction"
   ]
  },
  {
   "cell_type": "markdown",
   "metadata": {},
   "source": [
    "Analyzing 911 calls data from [Kaggle](https://www.kaggle.com/mchirico/montcoalert). The data contains the following fields:\n",
    "\n",
    "* lat : String variable, Latitude\n",
    "* lng: String variable, Longitude\n",
    "* desc: String variable, Description of the Emergency Call\n",
    "* zip: String variable, Zipcode\n",
    "* title: String variable, Title\n",
    "* timeStamp: String variable, YYYY-MM-DD HH:MM:SS\n",
    "* twp: String variable, Township\n",
    "* addr: String variable, Address\n",
    "* e: String variable, Dummy variable (always 1)"
   ]
  },
  {
   "cell_type": "markdown",
   "metadata": {},
   "source": [
    "# Contents\n",
    "\n",
    "1) Data Clean-Up\n",
    "* Creating columns 'Reasons', 'Issue', and 'Station' based on 'descr' and 'title'\n",
    "* Droping 'desc','title','twp','addr','e' columns\n",
    "* Finding missing 'zip' with the help of 'lat' and 'lng'\n",
    "* Filling missing data of 'Station'\n",
    "* Creating columns 'Hour','Month','Day of Week', 'Date' from 'timeStamp'\n",
    "\n",
    "2) Data Analysis\n",
    "* 911 Calls - Zip Code Distribution on Call Reason\n",
    "* 911 Calls - Date (Year - Week) of Occurrence on Call Reason\n",
    "* 911 Calls - Call Issue on Call Reason\n",
    "* 911 Calls - Total Daily on Call Reason\n",
    "* 911 Calls - Total Monthly on Call Reason\n",
    "* 911 Calls - Total Monthly Trend\n",
    "* 911 Calls - Heatmap of Day Time vs Day of Week\n",
    "* 911 Calls - Heatmap of Day Time vs Month\n",
    "* 911 Calls - Total Day Time on Call Reason"
   ]
  },
  {
   "cell_type": "code",
   "execution_count": 1,
   "metadata": {},
   "outputs": [
    {
     "data": {
      "text/html": [
       "<script type=\"text/javascript\">window.PlotlyConfig = {MathJaxConfig: 'local'};</script><script type=\"text/javascript\">if (window.MathJax) {MathJax.Hub.Config({SVG: {font: \"STIX-Web\"}});}</script><script>requirejs.config({paths: { 'plotly': ['https://cdn.plot.ly/plotly-latest.min']},});if(!window._Plotly) {require(['plotly'],function(plotly) {window._Plotly=plotly;});}</script>"
      ],
      "text/vnd.plotly.v1+html": [
       "<script type=\"text/javascript\">window.PlotlyConfig = {MathJaxConfig: 'local'};</script><script type=\"text/javascript\">if (window.MathJax) {MathJax.Hub.Config({SVG: {font: \"STIX-Web\"}});}</script><script>requirejs.config({paths: { 'plotly': ['https://cdn.plot.ly/plotly-latest.min']},});if(!window._Plotly) {require(['plotly'],function(plotly) {window._Plotly=plotly;});}</script>"
      ]
     },
     "metadata": {},
     "output_type": "display_data"
    },
    {
     "data": {
      "text/html": [
       "<script type=\"text/javascript\">window.PlotlyConfig = {MathJaxConfig: 'local'};</script><script type=\"text/javascript\">if (window.MathJax) {MathJax.Hub.Config({SVG: {font: \"STIX-Web\"}});}</script><script>requirejs.config({paths: { 'plotly': ['https://cdn.plot.ly/plotly-latest.min']},});if(!window._Plotly) {require(['plotly'],function(plotly) {window._Plotly=plotly;});}</script>"
      ],
      "text/vnd.plotly.v1+html": [
       "<script type=\"text/javascript\">window.PlotlyConfig = {MathJaxConfig: 'local'};</script><script type=\"text/javascript\">if (window.MathJax) {MathJax.Hub.Config({SVG: {font: \"STIX-Web\"}});}</script><script>requirejs.config({paths: { 'plotly': ['https://cdn.plot.ly/plotly-latest.min']},});if(!window._Plotly) {require(['plotly'],function(plotly) {window._Plotly=plotly;});}</script>"
      ]
     },
     "metadata": {},
     "output_type": "display_data"
    }
   ],
   "source": [
    "import pandas as pd\n",
    "import numpy as np\n",
    "from plotly.offline import download_plotlyjs, init_notebook_mode, plot, iplot\n",
    "import cufflinks as cf\n",
    "import re\n",
    "import matplotlib.pyplot as plt\n",
    "import seaborn as sns\n",
    "%matplotlib inline\n",
    "# For Notebooks\n",
    "init_notebook_mode(connected=True)\n",
    "# For offline use\n",
    "cf.go_offline()"
   ]
  },
  {
   "cell_type": "markdown",
   "metadata": {},
   "source": [
    "## 1) Data Clean-Up"
   ]
  },
  {
   "cell_type": "code",
   "execution_count": 2,
   "metadata": {},
   "outputs": [
    {
     "data": {
      "text/html": [
       "<div>\n",
       "<style scoped>\n",
       "    .dataframe tbody tr th:only-of-type {\n",
       "        vertical-align: middle;\n",
       "    }\n",
       "\n",
       "    .dataframe tbody tr th {\n",
       "        vertical-align: top;\n",
       "    }\n",
       "\n",
       "    .dataframe thead th {\n",
       "        text-align: right;\n",
       "    }\n",
       "</style>\n",
       "<table border=\"1\" class=\"dataframe\">\n",
       "  <thead>\n",
       "    <tr style=\"text-align: right;\">\n",
       "      <th></th>\n",
       "      <th>lat</th>\n",
       "      <th>lng</th>\n",
       "      <th>desc</th>\n",
       "      <th>zip</th>\n",
       "      <th>title</th>\n",
       "      <th>timeStamp</th>\n",
       "      <th>twp</th>\n",
       "      <th>addr</th>\n",
       "      <th>e</th>\n",
       "    </tr>\n",
       "  </thead>\n",
       "  <tbody>\n",
       "    <tr>\n",
       "      <th>0</th>\n",
       "      <td>40.297876</td>\n",
       "      <td>-75.581294</td>\n",
       "      <td>REINDEER CT &amp; DEAD END;  NEW HANOVER; Station ...</td>\n",
       "      <td>19525.0</td>\n",
       "      <td>EMS: BACK PAINS/INJURY</td>\n",
       "      <td>2015-12-10 17:40:00</td>\n",
       "      <td>NEW HANOVER</td>\n",
       "      <td>REINDEER CT &amp; DEAD END</td>\n",
       "      <td>1</td>\n",
       "    </tr>\n",
       "    <tr>\n",
       "      <th>1</th>\n",
       "      <td>40.258061</td>\n",
       "      <td>-75.264680</td>\n",
       "      <td>BRIAR PATH &amp; WHITEMARSH LN;  HATFIELD TOWNSHIP...</td>\n",
       "      <td>19446.0</td>\n",
       "      <td>EMS: DIABETIC EMERGENCY</td>\n",
       "      <td>2015-12-10 17:40:00</td>\n",
       "      <td>HATFIELD TOWNSHIP</td>\n",
       "      <td>BRIAR PATH &amp; WHITEMARSH LN</td>\n",
       "      <td>1</td>\n",
       "    </tr>\n",
       "    <tr>\n",
       "      <th>2</th>\n",
       "      <td>40.121182</td>\n",
       "      <td>-75.351975</td>\n",
       "      <td>HAWS AVE; NORRISTOWN; 2015-12-10 @ 14:39:21-St...</td>\n",
       "      <td>19401.0</td>\n",
       "      <td>Fire: GAS-ODOR/LEAK</td>\n",
       "      <td>2015-12-10 17:40:00</td>\n",
       "      <td>NORRISTOWN</td>\n",
       "      <td>HAWS AVE</td>\n",
       "      <td>1</td>\n",
       "    </tr>\n",
       "    <tr>\n",
       "      <th>3</th>\n",
       "      <td>40.116153</td>\n",
       "      <td>-75.343513</td>\n",
       "      <td>AIRY ST &amp; SWEDE ST;  NORRISTOWN; Station 308A;...</td>\n",
       "      <td>19401.0</td>\n",
       "      <td>EMS: CARDIAC EMERGENCY</td>\n",
       "      <td>2015-12-10 17:40:01</td>\n",
       "      <td>NORRISTOWN</td>\n",
       "      <td>AIRY ST &amp; SWEDE ST</td>\n",
       "      <td>1</td>\n",
       "    </tr>\n",
       "    <tr>\n",
       "      <th>4</th>\n",
       "      <td>40.251492</td>\n",
       "      <td>-75.603350</td>\n",
       "      <td>CHERRYWOOD CT &amp; DEAD END;  LOWER POTTSGROVE; S...</td>\n",
       "      <td>NaN</td>\n",
       "      <td>EMS: DIZZINESS</td>\n",
       "      <td>2015-12-10 17:40:01</td>\n",
       "      <td>LOWER POTTSGROVE</td>\n",
       "      <td>CHERRYWOOD CT &amp; DEAD END</td>\n",
       "      <td>1</td>\n",
       "    </tr>\n",
       "  </tbody>\n",
       "</table>\n",
       "</div>"
      ],
      "text/plain": [
       "         lat        lng                                               desc  \\\n",
       "0  40.297876 -75.581294  REINDEER CT & DEAD END;  NEW HANOVER; Station ...   \n",
       "1  40.258061 -75.264680  BRIAR PATH & WHITEMARSH LN;  HATFIELD TOWNSHIP...   \n",
       "2  40.121182 -75.351975  HAWS AVE; NORRISTOWN; 2015-12-10 @ 14:39:21-St...   \n",
       "3  40.116153 -75.343513  AIRY ST & SWEDE ST;  NORRISTOWN; Station 308A;...   \n",
       "4  40.251492 -75.603350  CHERRYWOOD CT & DEAD END;  LOWER POTTSGROVE; S...   \n",
       "\n",
       "       zip                    title            timeStamp                twp  \\\n",
       "0  19525.0   EMS: BACK PAINS/INJURY  2015-12-10 17:40:00        NEW HANOVER   \n",
       "1  19446.0  EMS: DIABETIC EMERGENCY  2015-12-10 17:40:00  HATFIELD TOWNSHIP   \n",
       "2  19401.0      Fire: GAS-ODOR/LEAK  2015-12-10 17:40:00         NORRISTOWN   \n",
       "3  19401.0   EMS: CARDIAC EMERGENCY  2015-12-10 17:40:01         NORRISTOWN   \n",
       "4      NaN           EMS: DIZZINESS  2015-12-10 17:40:01   LOWER POTTSGROVE   \n",
       "\n",
       "                         addr  e  \n",
       "0      REINDEER CT & DEAD END  1  \n",
       "1  BRIAR PATH & WHITEMARSH LN  1  \n",
       "2                    HAWS AVE  1  \n",
       "3          AIRY ST & SWEDE ST  1  \n",
       "4    CHERRYWOOD CT & DEAD END  1  "
      ]
     },
     "execution_count": 2,
     "metadata": {},
     "output_type": "execute_result"
    }
   ],
   "source": [
    "df=pd.read_csv('./data//911.csv')\n",
    "df.head()"
   ]
  },
  {
   "cell_type": "code",
   "execution_count": 3,
   "metadata": {},
   "outputs": [],
   "source": [
    "def StationFinder(x):\n",
    "    try:\n",
    "        return (re.sub('[:]', '', x.split('Station')[1].split(';')[0])).strip()\n",
    "    except:\n",
    "        return np.nan           \n",
    "df['Reason']=df['title'].map(lambda x:(x.split(':')[0]).strip())\n",
    "df['Issue']=df['title'].map(lambda x:((x.split(':')[1]).split('-')[0]).strip())\n",
    "df['Station']=df['desc'].map(StationFinder)\n",
    "df.drop(columns=['desc','title','twp','addr','e'],inplace=True)"
   ]
  },
  {
   "cell_type": "code",
   "execution_count": 4,
   "metadata": {},
   "outputs": [
    {
     "name": "stdout",
     "output_type": "stream",
     "text": [
      "<class 'pandas.core.frame.DataFrame'>\n",
      "RangeIndex: 99492 entries, 0 to 99491\n",
      "Data columns (total 7 columns):\n",
      "lat          99492 non-null float64\n",
      "lng          99492 non-null float64\n",
      "zip          86637 non-null float64\n",
      "timeStamp    99492 non-null object\n",
      "Reason       99492 non-null object\n",
      "Issue        99492 non-null object\n",
      "Station      63797 non-null object\n",
      "dtypes: float64(3), object(4)\n",
      "memory usage: 5.3+ MB\n"
     ]
    },
    {
     "data": {
      "image/png": "[encoded data removed]",
      "text/plain": [
       "<Figure size 1080x576 with 1 Axes>"
      ]
     },
     "metadata": {
      "needs_background": "light"
     },
     "output_type": "display_data"
    }
   ],
   "source": [
    "plt.figure(figsize=(15,8))\n",
    "# heatmap of all missing data\n",
    "sns.heatmap(df.isna(),cbar=False,yticklabels=False,cmap='viridis')\n",
    "df.info()"
   ]
  },
  {
   "cell_type": "markdown",
   "metadata": {},
   "source": [
    "12,855 zipcode missing, but we should be able to find them using longitude and latitude. To get them, we need to do reverse geo coding, followings are the common\n",
    "reverse geo-coding providers:\n",
    "\n",
    "    Bing\n",
    "    Google\n",
    "    Mapbox\n",
    "    MapQuest\n",
    "    What3Words\n",
    "    HERE\n",
    "    Yandex\n",
    "    \n",
    "geocoder API is a good option to find the zipcode for batched data\n",
    "https://geocoder.readthedocs.io/providers/Bing.html\n",
    "To use geocoder a bing account and a an api key is required.\n",
    "https://msdn.microsoft.com/en-us/library/ff428642.aspx?f=255&MSPPError=-2147217396"
   ]
  },
  {
   "cell_type": "code",
   "execution_count": 5,
   "metadata": {},
   "outputs": [],
   "source": [
    "# Remove all duplicates for lat lng.\n",
    "LatLng=df[df['zip'].isna()][['lat','lng']].drop_duplicates()\n",
    "# Convert them to list to be readable by geocoder\n",
    "LatLng.to_csv('./data//LatLng.csv',index=False)\n",
    "LL=LatLng.values.tolist()"
   ]
  },
  {
   "cell_type": "markdown",
   "metadata": {},
   "source": [
    "Due to limitation of geocode providers, such as google or bing, and their daily limit the option of acquiring zip code using geocoder library is not feasible."
   ]
  },
  {
   "cell_type": "markdown",
   "metadata": {},
   "source": [
    "The next option is using another geo-code provider with 15,000 monthly limit. http://more.stevemorse.org/latlonbatch2.html?direction=reverse"
   ]
  },
  {
   "cell_type": "markdown",
   "metadata": {},
   "source": [
    "All missing zipcodes have been saved to a csv file and using mentioned provider, new csv file was created LatLngAddress.csv"
   ]
  },
  {
   "cell_type": "code",
   "execution_count": 6,
   "metadata": {},
   "outputs": [
    {
     "data": {
      "text/html": [
       "<div>\n",
       "<style scoped>\n",
       "    .dataframe tbody tr th:only-of-type {\n",
       "        vertical-align: middle;\n",
       "    }\n",
       "\n",
       "    .dataframe tbody tr th {\n",
       "        vertical-align: top;\n",
       "    }\n",
       "\n",
       "    .dataframe thead th {\n",
       "        text-align: right;\n",
       "    }\n",
       "</style>\n",
       "<table border=\"1\" class=\"dataframe\">\n",
       "  <thead>\n",
       "    <tr style=\"text-align: right;\">\n",
       "      <th></th>\n",
       "      <th>lat</th>\n",
       "      <th>lng</th>\n",
       "      <th>zip</th>\n",
       "      <th>timeStamp</th>\n",
       "      <th>Reason</th>\n",
       "      <th>Issue</th>\n",
       "      <th>Station</th>\n",
       "    </tr>\n",
       "    <tr>\n",
       "      <th>idx</th>\n",
       "      <th></th>\n",
       "      <th></th>\n",
       "      <th></th>\n",
       "      <th></th>\n",
       "      <th></th>\n",
       "      <th></th>\n",
       "      <th></th>\n",
       "    </tr>\n",
       "  </thead>\n",
       "  <tbody>\n",
       "    <tr>\n",
       "      <th>0</th>\n",
       "      <td>40.297876</td>\n",
       "      <td>-75.581294</td>\n",
       "      <td>19525</td>\n",
       "      <td>2015-12-10 17:40:00</td>\n",
       "      <td>EMS</td>\n",
       "      <td>BACK PAINS/INJURY</td>\n",
       "      <td>332</td>\n",
       "    </tr>\n",
       "    <tr>\n",
       "      <th>1</th>\n",
       "      <td>40.258061</td>\n",
       "      <td>-75.264680</td>\n",
       "      <td>19446</td>\n",
       "      <td>2015-12-10 17:40:00</td>\n",
       "      <td>EMS</td>\n",
       "      <td>DIABETIC EMERGENCY</td>\n",
       "      <td>345</td>\n",
       "    </tr>\n",
       "    <tr>\n",
       "      <th>2</th>\n",
       "      <td>40.121182</td>\n",
       "      <td>-75.351975</td>\n",
       "      <td>19401</td>\n",
       "      <td>2015-12-10 17:40:00</td>\n",
       "      <td>Fire</td>\n",
       "      <td>GAS</td>\n",
       "      <td>STA27</td>\n",
       "    </tr>\n",
       "    <tr>\n",
       "      <th>3</th>\n",
       "      <td>40.116153</td>\n",
       "      <td>-75.343513</td>\n",
       "      <td>19401</td>\n",
       "      <td>2015-12-10 17:40:01</td>\n",
       "      <td>EMS</td>\n",
       "      <td>CARDIAC EMERGENCY</td>\n",
       "      <td>308A</td>\n",
       "    </tr>\n",
       "    <tr>\n",
       "      <th>4</th>\n",
       "      <td>40.251492</td>\n",
       "      <td>-75.603350</td>\n",
       "      <td>19464</td>\n",
       "      <td>2015-12-10 17:40:01</td>\n",
       "      <td>EMS</td>\n",
       "      <td>DIZZINESS</td>\n",
       "      <td>329</td>\n",
       "    </tr>\n",
       "  </tbody>\n",
       "</table>\n",
       "</div>"
      ],
      "text/plain": [
       "           lat        lng    zip            timeStamp Reason  \\\n",
       "idx                                                            \n",
       "0    40.297876 -75.581294  19525  2015-12-10 17:40:00    EMS   \n",
       "1    40.258061 -75.264680  19446  2015-12-10 17:40:00    EMS   \n",
       "2    40.121182 -75.351975  19401  2015-12-10 17:40:00   Fire   \n",
       "3    40.116153 -75.343513  19401  2015-12-10 17:40:01    EMS   \n",
       "4    40.251492 -75.603350  19464  2015-12-10 17:40:01    EMS   \n",
       "\n",
       "                  Issue Station  \n",
       "idx                              \n",
       "0     BACK PAINS/INJURY     332  \n",
       "1    DIABETIC EMERGENCY     345  \n",
       "2                   GAS   STA27  \n",
       "3     CARDIAC EMERGENCY    308A  \n",
       "4             DIZZINESS     329  "
      ]
     },
     "execution_count": 6,
     "metadata": {},
     "output_type": "execute_result"
    }
   ],
   "source": [
    "LatLngAddress=pd.read_csv('./data//LatLngAddress.csv')\n",
    "LLZ=LatLngAddress[['lat','lng','zipcode']]\n",
    "df['idx']=df.index\n",
    "df1=df[df['zip'].isna()]\n",
    "df2=df[~df['zip'].isna()]\n",
    "df1=pd.merge(left=df1,right=LLZ,how='left',on=['lat','lng'])\n",
    "df1['zip']=df1['zipcode']\n",
    "df1.drop(columns=['zipcode'],inplace=True)\n",
    "df1=df1.append(df2,sort=False).set_index('idx').sort_index()\n",
    "df1['zip']=df1['zip'].astype('int32')\n",
    "df1.head()"
   ]
  },
  {
   "cell_type": "code",
   "execution_count": 7,
   "metadata": {},
   "outputs": [
    {
     "name": "stdout",
     "output_type": "stream",
     "text": [
      "<class 'pandas.core.frame.DataFrame'>\n",
      "Int64Index: 99492 entries, 0 to 99491\n",
      "Data columns (total 7 columns):\n",
      "lat          99492 non-null float64\n",
      "lng          99492 non-null float64\n",
      "zip          99492 non-null int32\n",
      "timeStamp    99492 non-null object\n",
      "Reason       99492 non-null object\n",
      "Issue        99492 non-null object\n",
      "Station      63797 non-null object\n",
      "dtypes: float64(2), int32(1), object(4)\n",
      "memory usage: 5.7+ MB\n"
     ]
    },
    {
     "data": {
      "image/png": "[encoded data removed]",
      "text/plain": [
       "<Figure size 1080x576 with 1 Axes>"
      ]
     },
     "metadata": {
      "needs_background": "light"
     },
     "output_type": "display_data"
    }
   ],
   "source": [
    "plt.figure(figsize=(15,8))\n",
    "# heatmap of all missing data\n",
    "sns.heatmap(df1.isna(),cbar=False,yticklabels=False,cmap='viridis')\n",
    "df1.info()"
   ]
  },
  {
   "cell_type": "markdown",
   "metadata": {},
   "source": [
    "The other field with missing data is Station, we now investigate the type of relation between Station and zip code. Station is a function of zip, if and only if for each zip exists only one Station."
   ]
  },
  {
   "cell_type": "code",
   "execution_count": 8,
   "metadata": {},
   "outputs": [
    {
     "name": "stdout",
     "output_type": "stream",
     "text": [
      "No. Unique Station: 129\n",
      "No. Unique zip: 104\n"
     ]
    }
   ],
   "source": [
    "print(f\"No. Unique Station: {df['Station'].nunique()}\")\n",
    "print(f\"No. Unique zip: {df['zip'].nunique()}\")"
   ]
  },
  {
   "cell_type": "code",
   "execution_count": 9,
   "metadata": {},
   "outputs": [
    {
     "data": {
      "text/html": [
       "<div>\n",
       "<style scoped>\n",
       "    .dataframe tbody tr th:only-of-type {\n",
       "        vertical-align: middle;\n",
       "    }\n",
       "\n",
       "    .dataframe tbody tr th {\n",
       "        vertical-align: top;\n",
       "    }\n",
       "\n",
       "    .dataframe thead th {\n",
       "        text-align: right;\n",
       "    }\n",
       "</style>\n",
       "<table border=\"1\" class=\"dataframe\">\n",
       "  <thead>\n",
       "    <tr style=\"text-align: right;\">\n",
       "      <th></th>\n",
       "      <th>zip</th>\n",
       "      <th>Station</th>\n",
       "    </tr>\n",
       "    <tr>\n",
       "      <th>idx</th>\n",
       "      <th></th>\n",
       "      <th></th>\n",
       "    </tr>\n",
       "  </thead>\n",
       "  <tbody>\n",
       "    <tr>\n",
       "      <th>0</th>\n",
       "      <td>19525</td>\n",
       "      <td>332</td>\n",
       "    </tr>\n",
       "    <tr>\n",
       "      <th>1</th>\n",
       "      <td>19446</td>\n",
       "      <td>345</td>\n",
       "    </tr>\n",
       "    <tr>\n",
       "      <th>2</th>\n",
       "      <td>19401</td>\n",
       "      <td>STA27</td>\n",
       "    </tr>\n",
       "    <tr>\n",
       "      <th>3</th>\n",
       "      <td>19401</td>\n",
       "      <td>308A</td>\n",
       "    </tr>\n",
       "    <tr>\n",
       "      <th>4</th>\n",
       "      <td>19464</td>\n",
       "      <td>329</td>\n",
       "    </tr>\n",
       "  </tbody>\n",
       "</table>\n",
       "</div>"
      ],
      "text/plain": [
       "       zip Station\n",
       "idx               \n",
       "0    19525     332\n",
       "1    19446     345\n",
       "2    19401   STA27\n",
       "3    19401    308A\n",
       "4    19464     329"
      ]
     },
     "execution_count": 9,
     "metadata": {},
     "output_type": "execute_result"
    }
   ],
   "source": [
    "zS=df1[['zip','Station']].dropna().drop_duplicates()\n",
    "zS.head()"
   ]
  },
  {
   "cell_type": "markdown",
   "metadata": {},
   "source": [
    "From the head of the data, it can be seen that 19401 had been assigned to 2 stations, so we can not use zip-code to determine station."
   ]
  },
  {
   "cell_type": "code",
   "execution_count": 10,
   "metadata": {},
   "outputs": [
    {
     "data": {
      "text/plain": [
       "array(['Traffic'], dtype=object)"
      ]
     },
     "execution_count": 10,
     "metadata": {},
     "output_type": "execute_result"
    }
   ],
   "source": [
    "df1[df1['Station'].isna()]['Reason'].unique()"
   ]
  },
  {
   "cell_type": "markdown",
   "metadata": {},
   "source": [
    "Furthure investigation into the missing data of station shows that, every time the reason was traffic, no station was assigned."
   ]
  },
  {
   "cell_type": "code",
   "execution_count": 11,
   "metadata": {},
   "outputs": [],
   "source": [
    "# df1.to_csv('911_clean.csv')"
   ]
  },
  {
   "cell_type": "code",
   "execution_count": 12,
   "metadata": {},
   "outputs": [],
   "source": [
    "df1['timeStamp']=pd.to_datetime(df1['timeStamp'])\n",
    "df1['Hour']=df1['timeStamp'].apply(lambda x: x.hour)\n",
    "df1['Month']=df1['timeStamp'].apply(lambda x: x.month)\n",
    "df1['Day of Week']=df1['timeStamp'].apply(lambda x: x.dayofweek)\n",
    "df1['Day of Week']=df1['Day of Week'].map({0:'Mon',1:'Tue',2:'Wed',3:'Thu',4:'Fri',5:'Sat',6:'Sun'})\n",
    "df1['Date']=df1['timeStamp'].apply(lambda x: x.date())\n",
    "df1['Year-Week'] = df1['timeStamp'].dt.strftime('%Y - %U')"
   ]
  },
  {
   "cell_type": "code",
   "execution_count": 13,
   "metadata": {},
   "outputs": [
    {
     "data": {
      "text/html": [
       "<div>\n",
       "<style scoped>\n",
       "    .dataframe tbody tr th:only-of-type {\n",
       "        vertical-align: middle;\n",
       "    }\n",
       "\n",
       "    .dataframe tbody tr th {\n",
       "        vertical-align: top;\n",
       "    }\n",
       "\n",
       "    .dataframe thead th {\n",
       "        text-align: right;\n",
       "    }\n",
       "</style>\n",
       "<table border=\"1\" class=\"dataframe\">\n",
       "  <thead>\n",
       "    <tr style=\"text-align: right;\">\n",
       "      <th></th>\n",
       "      <th>lat</th>\n",
       "      <th>lng</th>\n",
       "      <th>zip</th>\n",
       "      <th>timeStamp</th>\n",
       "      <th>Reason</th>\n",
       "      <th>Issue</th>\n",
       "      <th>Station</th>\n",
       "      <th>Hour</th>\n",
       "      <th>Month</th>\n",
       "      <th>Day of Week</th>\n",
       "      <th>Date</th>\n",
       "      <th>Year-Week</th>\n",
       "    </tr>\n",
       "    <tr>\n",
       "      <th>idx</th>\n",
       "      <th></th>\n",
       "      <th></th>\n",
       "      <th></th>\n",
       "      <th></th>\n",
       "      <th></th>\n",
       "      <th></th>\n",
       "      <th></th>\n",
       "      <th></th>\n",
       "      <th></th>\n",
       "      <th></th>\n",
       "      <th></th>\n",
       "      <th></th>\n",
       "    </tr>\n",
       "  </thead>\n",
       "  <tbody>\n",
       "    <tr>\n",
       "      <th>0</th>\n",
       "      <td>40.297876</td>\n",
       "      <td>-75.581294</td>\n",
       "      <td>19525</td>\n",
       "      <td>2015-12-10 17:40:00</td>\n",
       "      <td>EMS</td>\n",
       "      <td>BACK PAINS/INJURY</td>\n",
       "      <td>332</td>\n",
       "      <td>17</td>\n",
       "      <td>12</td>\n",
       "      <td>Thu</td>\n",
       "      <td>2015-12-10</td>\n",
       "      <td>2015 - 49</td>\n",
       "    </tr>\n",
       "    <tr>\n",
       "      <th>1</th>\n",
       "      <td>40.258061</td>\n",
       "      <td>-75.264680</td>\n",
       "      <td>19446</td>\n",
       "      <td>2015-12-10 17:40:00</td>\n",
       "      <td>EMS</td>\n",
       "      <td>DIABETIC EMERGENCY</td>\n",
       "      <td>345</td>\n",
       "      <td>17</td>\n",
       "      <td>12</td>\n",
       "      <td>Thu</td>\n",
       "      <td>2015-12-10</td>\n",
       "      <td>2015 - 49</td>\n",
       "    </tr>\n",
       "    <tr>\n",
       "      <th>2</th>\n",
       "      <td>40.121182</td>\n",
       "      <td>-75.351975</td>\n",
       "      <td>19401</td>\n",
       "      <td>2015-12-10 17:40:00</td>\n",
       "      <td>Fire</td>\n",
       "      <td>GAS</td>\n",
       "      <td>STA27</td>\n",
       "      <td>17</td>\n",
       "      <td>12</td>\n",
       "      <td>Thu</td>\n",
       "      <td>2015-12-10</td>\n",
       "      <td>2015 - 49</td>\n",
       "    </tr>\n",
       "    <tr>\n",
       "      <th>3</th>\n",
       "      <td>40.116153</td>\n",
       "      <td>-75.343513</td>\n",
       "      <td>19401</td>\n",
       "      <td>2015-12-10 17:40:01</td>\n",
       "      <td>EMS</td>\n",
       "      <td>CARDIAC EMERGENCY</td>\n",
       "      <td>308A</td>\n",
       "      <td>17</td>\n",
       "      <td>12</td>\n",
       "      <td>Thu</td>\n",
       "      <td>2015-12-10</td>\n",
       "      <td>2015 - 49</td>\n",
       "    </tr>\n",
       "    <tr>\n",
       "      <th>4</th>\n",
       "      <td>40.251492</td>\n",
       "      <td>-75.603350</td>\n",
       "      <td>19464</td>\n",
       "      <td>2015-12-10 17:40:01</td>\n",
       "      <td>EMS</td>\n",
       "      <td>DIZZINESS</td>\n",
       "      <td>329</td>\n",
       "      <td>17</td>\n",
       "      <td>12</td>\n",
       "      <td>Thu</td>\n",
       "      <td>2015-12-10</td>\n",
       "      <td>2015 - 49</td>\n",
       "    </tr>\n",
       "  </tbody>\n",
       "</table>\n",
       "</div>"
      ],
      "text/plain": [
       "           lat        lng    zip           timeStamp Reason  \\\n",
       "idx                                                           \n",
       "0    40.297876 -75.581294  19525 2015-12-10 17:40:00    EMS   \n",
       "1    40.258061 -75.264680  19446 2015-12-10 17:40:00    EMS   \n",
       "2    40.121182 -75.351975  19401 2015-12-10 17:40:00   Fire   \n",
       "3    40.116153 -75.343513  19401 2015-12-10 17:40:01    EMS   \n",
       "4    40.251492 -75.603350  19464 2015-12-10 17:40:01    EMS   \n",
       "\n",
       "                  Issue Station  Hour  Month Day of Week        Date  \\\n",
       "idx                                                                    \n",
       "0     BACK PAINS/INJURY     332    17     12         Thu  2015-12-10   \n",
       "1    DIABETIC EMERGENCY     345    17     12         Thu  2015-12-10   \n",
       "2                   GAS   STA27    17     12         Thu  2015-12-10   \n",
       "3     CARDIAC EMERGENCY    308A    17     12         Thu  2015-12-10   \n",
       "4             DIZZINESS     329    17     12         Thu  2015-12-10   \n",
       "\n",
       "     Year-Week  \n",
       "idx             \n",
       "0    2015 - 49  \n",
       "1    2015 - 49  \n",
       "2    2015 - 49  \n",
       "3    2015 - 49  \n",
       "4    2015 - 49  "
      ]
     },
     "execution_count": 13,
     "metadata": {},
     "output_type": "execute_result"
    }
   ],
   "source": [
    "df1.head()"
   ]
  },
  {
   "cell_type": "markdown",
   "metadata": {},
   "source": [
    "## 2) Data Analysis"
   ]
  },
  {
   "cell_type": "code",
   "execution_count": 14,
   "metadata": {},
   "outputs": [],
   "source": [
    "zipReason_count=df1.groupby(by=['zip','Reason']).count()['Issue'].unstack()\n",
    "zipReason_count['Sum']=zipReason_count.sum(axis=1)\n",
    "zipReason_count.sort_values(by=['Sum'],ascending=False,inplace=True)\n",
    "zipReason_count.drop(columns=['Sum'],inplace=True)"
   ]
  },
  {
   "cell_type": "code",
   "execution_count": 15,
   "metadata": {},
   "outputs": [
    {
     "data": {
      "application/vnd.plotly.v1+json": {
       "config": {
        "linkText": "Export to plot.ly",
        "plotlyServerURL": "https://plot.ly",
        "showLink": true
       },
       "data": [
        {
         "marker": {
          "color": "rgba(255, 153, 51, 0.6)",
          "line": {
           "color": "rgba(255, 153, 51, 1.0)",
           "width": 1
          }
         },
         "name": "EMS",
         "orientation": "v",
         "text": "",
         "type": "bar",
         "uid": "af4417bf-a8aa-4452-a33a-06856d9fa6ba",
         "x": [
          19401,
          19464,
          19403,
          19446,
          19406,
          19002,
          19454,
          19090,
          19438,
          19426,
          19468,
          19428,
          19462,
          19046,
          19038,
          19006,
          19027,
          19422,
          19040,
          19001,
          19044,
          19035,
          19010,
          18964,
          19004,
          19440,
          19473,
          19525,
          19096,
          19003,
          19444,
          19034,
          19095,
          18969,
          19072,
          18073,
          19012,
          19465,
          19405,
          19031,
          19075,
          19025,
          18074,
          19460,
          19066,
          19041,
          18041,
          19087,
          18076,
          19128,
          18054,
          19085,
          18936,
          19150,
          19151,
          19512,
          19474,
          18974,
          19118,
          19131,
          19453,
          18915,
          18924,
          19504,
          19475,
          18914,
          19518,
          18070,
          19492,
          19435,
          19009,
          18976,
          19503,
          18966,
          19355,
          19111,
          18960,
          19126,
          19545,
          18932,
          19505,
          19120,
          19490,
          19083,
          19443,
          18092,
          18084,
          19408,
          19477,
          19472,
          19246,
          19451,
          17210,
          18951,
          19430,
          19115,
          18056,
          19053,
          19423,
          19116,
          18103,
          19138,
          19082,
          19143,
          18962,
          19129,
          18036,
          18927,
          18194,
          36107,
          19107,
          18970,
          17752,
          19119,
          19127,
          19139,
          19457,
          77316
         ],
         "y": [
          4530,
          4041,
          3196,
          2788,
          1897,
          1585,
          1497,
          1515,
          1810,
          1291,
          1465,
          982,
          1117,
          1301,
          1362,
          1047,
          1127,
          1028,
          1136,
          810,
          735,
          370,
          503,
          753,
          463,
          613,
          621,
          581,
          438,
          541,
          505,
          384,
          485,
          483,
          343,
          416,
          262,
          324,
          305,
          286,
          211,
          195,
          273,
          205,
          200,
          169,
          279,
          128,
          240,
          137,
          146,
          75,
          122,
          135,
          136,
          178,
          181,
          34,
          81,
          84,
          54,
          34,
          49,
          51,
          73,
          24,
          56,
          33,
          19,
          16,
          17,
          16,
          21,
          30,
          7,
          28,
          18,
          2,
          11,
          19,
          22,
          3,
          12,
          11,
          11,
          11,
          5,
          10,
          10,
          7,
          7,
          4,
          "",
          9,
          4,
          1,
          4,
          3,
          2,
          3,
          "",
          1,
          1,
          2,
          1,
          "",
          2,
          2,
          1,
          "",
          "",
          1,
          1,
          "",
          1,
          "",
          1,
          1
         ]
        },
        {
         "marker": {
          "color": "rgba(55, 128, 191, 0.6)",
          "line": {
           "color": "rgba(55, 128, 191, 1.0)",
           "width": 1
          }
         },
         "name": "Fire",
         "orientation": "v",
         "text": "",
         "type": "bar",
         "uid": "69d448dc-7a1d-465e-bca5-8c2bcbbc3356",
         "x": [
          19401,
          19464,
          19403,
          19446,
          19406,
          19002,
          19454,
          19090,
          19438,
          19426,
          19468,
          19428,
          19462,
          19046,
          19038,
          19006,
          19027,
          19422,
          19040,
          19001,
          19044,
          19035,
          19010,
          18964,
          19004,
          19440,
          19473,
          19525,
          19096,
          19003,
          19444,
          19034,
          19095,
          18969,
          19072,
          18073,
          19012,
          19465,
          19405,
          19031,
          19075,
          19025,
          18074,
          19460,
          19066,
          19041,
          18041,
          19087,
          18076,
          19128,
          18054,
          19085,
          18936,
          19150,
          19151,
          19512,
          19474,
          18974,
          19118,
          19131,
          19453,
          18915,
          18924,
          19504,
          19475,
          18914,
          19518,
          18070,
          19492,
          19435,
          19009,
          18976,
          19503,
          18966,
          19355,
          19111,
          18960,
          19126,
          19545,
          18932,
          19505,
          19120,
          19490,
          19083,
          19443,
          18092,
          18084,
          19408,
          19477,
          19472,
          19246,
          19451,
          17210,
          18951,
          19430,
          19115,
          18056,
          19053,
          19423,
          19116,
          18103,
          19138,
          19082,
          19143,
          18962,
          19129,
          18036,
          18927,
          18194,
          36107,
          19107,
          18970,
          17752,
          19119,
          19127,
          19139,
          19457,
          77316
         ],
         "y": [
          936,
          1116,
          671,
          678,
          587,
          522,
          401,
          441,
          332,
          548,
          545,
          557,
          370,
          456,
          422,
          389,
          358,
          344,
          303,
          235,
          202,
          295,
          338,
          204,
          210,
          126,
          221,
          193,
          226,
          181,
          190,
          173,
          127,
          119,
          131,
          147,
          89,
          14,
          95,
          122,
          77,
          55,
          60,
          98,
          109,
          71,
          89,
          53,
          52,
          30,
          56,
          96,
          35,
          36,
          27,
          9,
          20,
          7,
          19,
          24,
          41,
          21,
          34,
          21,
          2,
          1,
          2,
          10,
          15,
          11,
          21,
          4,
          5,
          3,
          6,
          "",
          9,
          1,
          8,
          1,
          2,
          2,
          14,
          4,
          5,
          3,
          8,
          2,
          2,
          3,
          4,
          6,
          "",
          "",
          4,
          1,
          2,
          "",
          1,
          1,
          "",
          "",
          "",
          1,
          2,
          "",
          "",
          "",
          "",
          "",
          "",
          "",
          "",
          "",
          "",
          "",
          "",
          ""
         ]
        },
        {
         "marker": {
          "color": "rgba(50, 171, 96, 0.6)",
          "line": {
           "color": "rgba(50, 171, 96, 1.0)",
           "width": 1
          }
         },
         "name": "Traffic",
         "orientation": "v",
         "text": "",
         "type": "bar",
         "uid": "b98cedc2-462c-456a-aac7-8018cda3723d",
         "x": [
          19401,
          19464,
          19403,
          19446,
          19406,
          19002,
          19454,
          19090,
          19438,
          19426,
          19468,
          19428,
          19462,
          19046,
          19038,
          19006,
          19027,
          19422,
          19040,
          19001,
          19044,
          19035,
          19010,
          18964,
          19004,
          19440,
          19473,
          19525,
          19096,
          19003,
          19444,
          19034,
          19095,
          18969,
          19072,
          18073,
          19012,
          19465,
          19405,
          19031,
          19075,
          19025,
          18074,
          19460,
          19066,
          19041,
          18041,
          19087,
          18076,
          19128,
          18054,
          19085,
          18936,
          19150,
          19151,
          19512,
          19474,
          18974,
          19118,
          19131,
          19453,
          18915,
          18924,
          19504,
          19475,
          18914,
          19518,
          18070,
          19492,
          19435,
          19009,
          18976,
          19503,
          18966,
          19355,
          19111,
          18960,
          19126,
          19545,
          18932,
          19505,
          19120,
          19490,
          19083,
          19443,
          18092,
          18084,
          19408,
          19477,
          19472,
          19246,
          19451,
          17210,
          18951,
          19430,
          19115,
          18056,
          19053,
          19423,
          19116,
          18103,
          19138,
          19082,
          19143,
          18962,
          19129,
          18036,
          18927,
          18194,
          36107,
          19107,
          18970,
          17752,
          19119,
          19127,
          19139,
          19457,
          77316
         ],
         "y": [
          1694,
          1880,
          1490,
          1536,
          2271,
          1777,
          1541,
          1239,
          969,
          1246,
          1022,
          1250,
          1225,
          876,
          806,
          961,
          815,
          818,
          688,
          645,
          663,
          736,
          507,
          382,
          628,
          515,
          331,
          364,
          465,
          378,
          367,
          501,
          413,
          175,
          273,
          179,
          242,
          246,
          183,
          159,
          269,
          271,
          143,
          156,
          148,
          199,
          70,
          166,
          50,
          169,
          124,
          140,
          140,
          117,
          124,
          41,
          25,
          175,
          100,
          78,
          82,
          63,
          32,
          29,
          2,
          41,
          1,
          13,
          18,
          24,
          11,
          26,
          19,
          11,
          30,
          8,
          8,
          29,
          12,
          8,
          3,
          21,
          "",
          6,
          "",
          "",
          "",
          "",
          "",
          2,
          "",
          "",
          10,
          1,
          "",
          6,
          "",
          3,
          1,
          "",
          4,
          2,
          2,
          "",
          "",
          2,
          "",
          "",
          "",
          1,
          1,
          "",
          "",
          1,
          "",
          1,
          "",
          ""
         ]
        }
       ],
       "layout": {
        "bargroupgap": 0.1,
        "barmode": "stack",
        "height": 500,
        "title": {
         "font": {
          "size": 12
         },
         "text": "911 Calls - Zip Code Distribution on Call Reason"
        },
        "width": 900,
        "xaxis": {
         "tickangle": 45,
         "tickfont": {
          "size": 10
         },
         "tickformat": " ",
         "title": {
          "text": "Zip Code"
         },
         "type": "category"
        },
        "yaxis": {
         "title": {
          "text": "Count"
         }
        }
       }
      },
      "text/html": [
       "<div id=\"37440c03-d73c-4f1a-8dc9-0a576badbfcc\" style=\"height: 500px; width: 900px;\" class=\"plotly-graph-div\"></div><script type=\"text/javascript\">require([\"plotly\"], function(Plotly) { window.PLOTLYENV=window.PLOTLYENV || {};window.PLOTLYENV.BASE_URL=\"https://plot.ly\";Plotly.newPlot(\"37440c03-d73c-4f1a-8dc9-0a576badbfcc\", [{\"marker\": {\"color\": \"rgba(255, 153, 51, 0.6)\", \"line\": {\"color\": \"rgba(255, 153, 51, 1.0)\", \"width\": 1}}, \"name\": \"EMS\", \"orientation\": \"v\", \"text\": \"\", \"x\": [19401, 19464, 19403, 19446, 19406, 19002, 19454, 19090, 19438, 19426, 19468, 19428, 19462, 19046, 19038, 19006, 19027, 19422, 19040, 19001, 19044, 19035, 19010, 18964, 19004, 19440, 19473, 19525, 19096, 19003, 19444, 19034, 19095, 18969, 19072, 18073, 19012, 19465, 19405, 19031, 19075, 19025, 18074, 19460, 19066, 19041, 18041, 19087, 18076, 19128, 18054, 19085, 18936, 19150, 19151, 19512, 19474, 18974, 19118, 19131, 19453, 18915, 18924, 19504, 19475, 18914, 19518, 18070, 19492, 19435, 19009, 18976, 19503, 18966, 19355, 19111, 18960, 19126, 19545, 18932, 19505, 19120, 19490, 19083, 19443, 18092, 18084, 19408, 19477, 19472, 19246, 19451, 17210, 18951, 19430, 19115, 18056, 19053, 19423, 19116, 18103, 19138, 19082, 19143, 18962, 19129, 18036, 18927, 18194, 36107, 19107, 18970, 17752, 19119, 19127, 19139, 19457, 77316], \"y\": [4530.0, 4041.0, 3196.0, 2788.0, 1897.0, 1585.0, 1497.0, 1515.0, 1810.0, 1291.0, 1465.0, 982.0, 1117.0, 1301.0, 1362.0, 1047.0, 1127.0, 1028.0, 1136.0, 810.0, 735.0, 370.0, 503.0, 753.0, 463.0, 613.0, 621.0, 581.0, 438.0, 541.0, 505.0, 384.0, 485.0, 483.0, 343.0, 416.0, 262.0, 324.0, 305.0, 286.0, 211.0, 195.0, 273.0, 205.0, 200.0, 169.0, 279.0, 128.0, 240.0, 137.0, 146.0, 75.0, 122.0, 135.0, 136.0, 178.0, 181.0, 34.0, 81.0, 84.0, 54.0, 34.0, 49.0, 51.0, 73.0, 24.0, 56.0, 33.0, 19.0, 16.0, 17.0, 16.0, 21.0, 30.0, 7.0, 28.0, 18.0, 2.0, 11.0, 19.0, 22.0, 3.0, 12.0, 11.0, 11.0, 11.0, 5.0, 10.0, 10.0, 7.0, 7.0, 4.0, \"\", 9.0, 4.0, 1.0, 4.0, 3.0, 2.0, 3.0, \"\", 1.0, 1.0, 2.0, 1.0, \"\", 2.0, 2.0, 1.0, \"\", \"\", 1.0, 1.0, \"\", 1.0, \"\", 1.0, 1.0], \"type\": \"bar\", \"uid\": \"b5c39470-91b0-4caa-b939-540898a3c15b\"}, {\"marker\": {\"color\": \"rgba(55, 128, 191, 0.6)\", \"line\": {\"color\": \"rgba(55, 128, 191, 1.0)\", \"width\": 1}}, \"name\": \"Fire\", \"orientation\": \"v\", \"text\": \"\", \"x\": [19401, 19464, 19403, 19446, 19406, 19002, 19454, 19090, 19438, 19426, 19468, 19428, 19462, 19046, 19038, 19006, 19027, 19422, 19040, 19001, 19044, 19035, 19010, 18964, 19004, 19440, 19473, 19525, 19096, 19003, 19444, 19034, 19095, 18969, 19072, 18073, 19012, 19465, 19405, 19031, 19075, 19025, 18074, 19460, 19066, 19041, 18041, 19087, 18076, 19128, 18054, 19085, 18936, 19150, 19151, 19512, 19474, 18974, 19118, 19131, 19453, 18915, 18924, 19504, 19475, 18914, 19518, 18070, 19492, 19435, 19009, 18976, 19503, 18966, 19355, 19111, 18960, 19126, 19545, 18932, 19505, 19120, 19490, 19083, 19443, 18092, 18084, 19408, 19477, 19472, 19246, 19451, 17210, 18951, 19430, 19115, 18056, 19053, 19423, 19116, 18103, 19138, 19082, 19143, 18962, 19129, 18036, 18927, 18194, 36107, 19107, 18970, 17752, 19119, 19127, 19139, 19457, 77316], \"y\": [936.0, 1116.0, 671.0, 678.0, 587.0, 522.0, 401.0, 441.0, 332.0, 548.0, 545.0, 557.0, 370.0, 456.0, 422.0, 389.0, 358.0, 344.0, 303.0, 235.0, 202.0, 295.0, 338.0, 204.0, 210.0, 126.0, 221.0, 193.0, 226.0, 181.0, 190.0, 173.0, 127.0, 119.0, 131.0, 147.0, 89.0, 14.0, 95.0, 122.0, 77.0, 55.0, 60.0, 98.0, 109.0, 71.0, 89.0, 53.0, 52.0, 30.0, 56.0, 96.0, 35.0, 36.0, 27.0, 9.0, 20.0, 7.0, 19.0, 24.0, 41.0, 21.0, 34.0, 21.0, 2.0, 1.0, 2.0, 10.0, 15.0, 11.0, 21.0, 4.0, 5.0, 3.0, 6.0, \"\", 9.0, 1.0, 8.0, 1.0, 2.0, 2.0, 14.0, 4.0, 5.0, 3.0, 8.0, 2.0, 2.0, 3.0, 4.0, 6.0, \"\", \"\", 4.0, 1.0, 2.0, \"\", 1.0, 1.0, \"\", \"\", \"\", 1.0, 2.0, \"\", \"\", \"\", \"\", \"\", \"\", \"\", \"\", \"\", \"\", \"\", \"\", \"\"], \"type\": \"bar\", \"uid\": \"574fd876-52ae-4a0b-921e-052ab9cb843d\"}, {\"marker\": {\"color\": \"rgba(50, 171, 96, 0.6)\", \"line\": {\"color\": \"rgba(50, 171, 96, 1.0)\", \"width\": 1}}, \"name\": \"Traffic\", \"orientation\": \"v\", \"text\": \"\", \"x\": [19401, 19464, 19403, 19446, 19406, 19002, 19454, 19090, 19438, 19426, 19468, 19428, 19462, 19046, 19038, 19006, 19027, 19422, 19040, 19001, 19044, 19035, 19010, 18964, 19004, 19440, 19473, 19525, 19096, 19003, 19444, 19034, 19095, 18969, 19072, 18073, 19012, 19465, 19405, 19031, 19075, 19025, 18074, 19460, 19066, 19041, 18041, 19087, 18076, 19128, 18054, 19085, 18936, 19150, 19151, 19512, 19474, 18974, 19118, 19131, 19453, 18915, 18924, 19504, 19475, 18914, 19518, 18070, 19492, 19435, 19009, 18976, 19503, 18966, 19355, 19111, 18960, 19126, 19545, 18932, 19505, 19120, 19490, 19083, 19443, 18092, 18084, 19408, 19477, 19472, 19246, 19451, 17210, 18951, 19430, 19115, 18056, 19053, 19423, 19116, 18103, 19138, 19082, 19143, 18962, 19129, 18036, 18927, 18194, 36107, 19107, 18970, 17752, 19119, 19127, 19139, 19457, 77316], \"y\": [1694.0, 1880.0, 1490.0, 1536.0, 2271.0, 1777.0, 1541.0, 1239.0, 969.0, 1246.0, 1022.0, 1250.0, 1225.0, 876.0, 806.0, 961.0, 815.0, 818.0, 688.0, 645.0, 663.0, 736.0, 507.0, 382.0, 628.0, 515.0, 331.0, 364.0, 465.0, 378.0, 367.0, 501.0, 413.0, 175.0, 273.0, 179.0, 242.0, 246.0, 183.0, 159.0, 269.0, 271.0, 143.0, 156.0, 148.0, 199.0, 70.0, 166.0, 50.0, 169.0, 124.0, 140.0, 140.0, 117.0, 124.0, 41.0, 25.0, 175.0, 100.0, 78.0, 82.0, 63.0, 32.0, 29.0, 2.0, 41.0, 1.0, 13.0, 18.0, 24.0, 11.0, 26.0, 19.0, 11.0, 30.0, 8.0, 8.0, 29.0, 12.0, 8.0, 3.0, 21.0, \"\", 6.0, \"\", \"\", \"\", \"\", \"\", 2.0, \"\", \"\", 10.0, 1.0, \"\", 6.0, \"\", 3.0, 1.0, \"\", 4.0, 2.0, 2.0, \"\", \"\", 2.0, \"\", \"\", \"\", 1.0, 1.0, \"\", \"\", 1.0, \"\", 1.0, \"\", \"\"], \"type\": \"bar\", \"uid\": \"5c1bb1dd-22c0-4d6a-957e-9236b8c73566\"}], {\"bargroupgap\": 0.1, \"barmode\": \"stack\", \"height\": 500, \"title\": {\"text\": \"911 Calls - Zip Code Distribution on Call Reason\", \"font\": {\"size\": 12}}, \"width\": 900, \"xaxis\": {\"tickangle\": 45, \"tickfont\": {\"size\": 10}, \"tickformat\": \" \", \"title\": {\"text\": \"Zip Code\"}, \"type\": \"category\"}, \"yaxis\": {\"title\": {\"text\": \"Count\"}}}, {\"showLink\": true, \"linkText\": \"Export to plot.ly\", \"plotlyServerURL\": \"https://plot.ly\"})});</script>"
      ],
      "text/vnd.plotly.v1+html": [
       "<div id=\"37440c03-d73c-4f1a-8dc9-0a576badbfcc\" style=\"height: 500px; width: 900px;\" class=\"plotly-graph-div\"></div><script type=\"text/javascript\">require([\"plotly\"], function(Plotly) { window.PLOTLYENV=window.PLOTLYENV || {};window.PLOTLYENV.BASE_URL=\"https://plot.ly\";Plotly.newPlot(\"37440c03-d73c-4f1a-8dc9-0a576badbfcc\", [{\"marker\": {\"color\": \"rgba(255, 153, 51, 0.6)\", \"line\": {\"color\": \"rgba(255, 153, 51, 1.0)\", \"width\": 1}}, \"name\": \"EMS\", \"orientation\": \"v\", \"text\": \"\", \"x\": [19401, 19464, 19403, 19446, 19406, 19002, 19454, 19090, 19438, 19426, 19468, 19428, 19462, 19046, 19038, 19006, 19027, 19422, 19040, 19001, 19044, 19035, 19010, 18964, 19004, 19440, 19473, 19525, 19096, 19003, 19444, 19034, 19095, 18969, 19072, 18073, 19012, 19465, 19405, 19031, 19075, 19025, 18074, 19460, 19066, 19041, 18041, 19087, 18076, 19128, 18054, 19085, 18936, 19150, 19151, 19512, 19474, 18974, 19118, 19131, 19453, 18915, 18924, 19504, 19475, 18914, 19518, 18070, 19492, 19435, 19009, 18976, 19503, 18966, 19355, 19111, 18960, 19126, 19545, 18932, 19505, 19120, 19490, 19083, 19443, 18092, 18084, 19408, 19477, 19472, 19246, 19451, 17210, 18951, 19430, 19115, 18056, 19053, 19423, 19116, 18103, 19138, 19082, 19143, 18962, 19129, 18036, 18927, 18194, 36107, 19107, 18970, 17752, 19119, 19127, 19139, 19457, 77316], \"y\": [4530.0, 4041.0, 3196.0, 2788.0, 1897.0, 1585.0, 1497.0, 1515.0, 1810.0, 1291.0, 1465.0, 982.0, 1117.0, 1301.0, 1362.0, 1047.0, 1127.0, 1028.0, 1136.0, 810.0, 735.0, 370.0, 503.0, 753.0, 463.0, 613.0, 621.0, 581.0, 438.0, 541.0, 505.0, 384.0, 485.0, 483.0, 343.0, 416.0, 262.0, 324.0, 305.0, 286.0, 211.0, 195.0, 273.0, 205.0, 200.0, 169.0, 279.0, 128.0, 240.0, 137.0, 146.0, 75.0, 122.0, 135.0, 136.0, 178.0, 181.0, 34.0, 81.0, 84.0, 54.0, 34.0, 49.0, 51.0, 73.0, 24.0, 56.0, 33.0, 19.0, 16.0, 17.0, 16.0, 21.0, 30.0, 7.0, 28.0, 18.0, 2.0, 11.0, 19.0, 22.0, 3.0, 12.0, 11.0, 11.0, 11.0, 5.0, 10.0, 10.0, 7.0, 7.0, 4.0, \"\", 9.0, 4.0, 1.0, 4.0, 3.0, 2.0, 3.0, \"\", 1.0, 1.0, 2.0, 1.0, \"\", 2.0, 2.0, 1.0, \"\", \"\", 1.0, 1.0, \"\", 1.0, \"\", 1.0, 1.0], \"type\": \"bar\", \"uid\": \"b5c39470-91b0-4caa-b939-540898a3c15b\"}, {\"marker\": {\"color\": \"rgba(55, 128, 191, 0.6)\", \"line\": {\"color\": \"rgba(55, 128, 191, 1.0)\", \"width\": 1}}, \"name\": \"Fire\", \"orientation\": \"v\", \"text\": \"\", \"x\": [19401, 19464, 19403, 19446, 19406, 19002, 19454, 19090, 19438, 19426, 19468, 19428, 19462, 19046, 19038, 19006, 19027, 19422, 19040, 19001, 19044, 19035, 19010, 18964, 19004, 19440, 19473, 19525, 19096, 19003, 19444, 19034, 19095, 18969, 19072, 18073, 19012, 19465, 19405, 19031, 19075, 19025, 18074, 19460, 19066, 19041, 18041, 19087, 18076, 19128, 18054, 19085, 18936, 19150, 19151, 19512, 19474, 18974, 19118, 19131, 19453, 18915, 18924, 19504, 19475, 18914, 19518, 18070, 19492, 19435, 19009, 18976, 19503, 18966, 19355, 19111, 18960, 19126, 19545, 18932, 19505, 19120, 19490, 19083, 19443, 18092, 18084, 19408, 19477, 19472, 19246, 19451, 17210, 18951, 19430, 19115, 18056, 19053, 19423, 19116, 18103, 19138, 19082, 19143, 18962, 19129, 18036, 18927, 18194, 36107, 19107, 18970, 17752, 19119, 19127, 19139, 19457, 77316], \"y\": [936.0, 1116.0, 671.0, 678.0, 587.0, 522.0, 401.0, 441.0, 332.0, 548.0, 545.0, 557.0, 370.0, 456.0, 422.0, 389.0, 358.0, 344.0, 303.0, 235.0, 202.0, 295.0, 338.0, 204.0, 210.0, 126.0, 221.0, 193.0, 226.0, 181.0, 190.0, 173.0, 127.0, 119.0, 131.0, 147.0, 89.0, 14.0, 95.0, 122.0, 77.0, 55.0, 60.0, 98.0, 109.0, 71.0, 89.0, 53.0, 52.0, 30.0, 56.0, 96.0, 35.0, 36.0, 27.0, 9.0, 20.0, 7.0, 19.0, 24.0, 41.0, 21.0, 34.0, 21.0, 2.0, 1.0, 2.0, 10.0, 15.0, 11.0, 21.0, 4.0, 5.0, 3.0, 6.0, \"\", 9.0, 1.0, 8.0, 1.0, 2.0, 2.0, 14.0, 4.0, 5.0, 3.0, 8.0, 2.0, 2.0, 3.0, 4.0, 6.0, \"\", \"\", 4.0, 1.0, 2.0, \"\", 1.0, 1.0, \"\", \"\", \"\", 1.0, 2.0, \"\", \"\", \"\", \"\", \"\", \"\", \"\", \"\", \"\", \"\", \"\", \"\", \"\"], \"type\": \"bar\", \"uid\": \"574fd876-52ae-4a0b-921e-052ab9cb843d\"}, {\"marker\": {\"color\": \"rgba(50, 171, 96, 0.6)\", \"line\": {\"color\": \"rgba(50, 171, 96, 1.0)\", \"width\": 1}}, \"name\": \"Traffic\", \"orientation\": \"v\", \"text\": \"\", \"x\": [19401, 19464, 19403, 19446, 19406, 19002, 19454, 19090, 19438, 19426, 19468, 19428, 19462, 19046, 19038, 19006, 19027, 19422, 19040, 19001, 19044, 19035, 19010, 18964, 19004, 19440, 19473, 19525, 19096, 19003, 19444, 19034, 19095, 18969, 19072, 18073, 19012, 19465, 19405, 19031, 19075, 19025, 18074, 19460, 19066, 19041, 18041, 19087, 18076, 19128, 18054, 19085, 18936, 19150, 19151, 19512, 19474, 18974, 19118, 19131, 19453, 18915, 18924, 19504, 19475, 18914, 19518, 18070, 19492, 19435, 19009, 18976, 19503, 18966, 19355, 19111, 18960, 19126, 19545, 18932, 19505, 19120, 19490, 19083, 19443, 18092, 18084, 19408, 19477, 19472, 19246, 19451, 17210, 18951, 19430, 19115, 18056, 19053, 19423, 19116, 18103, 19138, 19082, 19143, 18962, 19129, 18036, 18927, 18194, 36107, 19107, 18970, 17752, 19119, 19127, 19139, 19457, 77316], \"y\": [1694.0, 1880.0, 1490.0, 1536.0, 2271.0, 1777.0, 1541.0, 1239.0, 969.0, 1246.0, 1022.0, 1250.0, 1225.0, 876.0, 806.0, 961.0, 815.0, 818.0, 688.0, 645.0, 663.0, 736.0, 507.0, 382.0, 628.0, 515.0, 331.0, 364.0, 465.0, 378.0, 367.0, 501.0, 413.0, 175.0, 273.0, 179.0, 242.0, 246.0, 183.0, 159.0, 269.0, 271.0, 143.0, 156.0, 148.0, 199.0, 70.0, 166.0, 50.0, 169.0, 124.0, 140.0, 140.0, 117.0, 124.0, 41.0, 25.0, 175.0, 100.0, 78.0, 82.0, 63.0, 32.0, 29.0, 2.0, 41.0, 1.0, 13.0, 18.0, 24.0, 11.0, 26.0, 19.0, 11.0, 30.0, 8.0, 8.0, 29.0, 12.0, 8.0, 3.0, 21.0, \"\", 6.0, \"\", \"\", \"\", \"\", \"\", 2.0, \"\", \"\", 10.0, 1.0, \"\", 6.0, \"\", 3.0, 1.0, \"\", 4.0, 2.0, 2.0, \"\", \"\", 2.0, \"\", \"\", \"\", 1.0, 1.0, \"\", \"\", 1.0, \"\", 1.0, \"\", \"\"], \"type\": \"bar\", \"uid\": \"5c1bb1dd-22c0-4d6a-957e-9236b8c73566\"}], {\"bargroupgap\": 0.1, \"barmode\": \"stack\", \"height\": 500, \"title\": {\"text\": \"911 Calls - Zip Code Distribution on Call Reason\", \"font\": {\"size\": 12}}, \"width\": 900, \"xaxis\": {\"tickangle\": 45, \"tickfont\": {\"size\": 10}, \"tickformat\": \" \", \"title\": {\"text\": \"Zip Code\"}, \"type\": \"category\"}, \"yaxis\": {\"title\": {\"text\": \"Count\"}}}, {\"showLink\": true, \"linkText\": \"Export to plot.ly\", \"plotlyServerURL\": \"https://plot.ly\"})});</script>"
      ]
     },
     "metadata": {},
     "output_type": "display_data"
    }
   ],
   "source": [
    "layout={'title':'911 Calls - Zip Code Distribution on Call Reason',\n",
    "        'bargroupgap':0.1,'width':900,'height':500,\n",
    "        'titlefont':{'size':12},'barmode':'stack',\n",
    "        'xaxis':{'tickformat':' ','type':'category','title':'Zip Code','tickfont':{'size':10},'tickangle':45},\n",
    "        'yaxis':{'title':'Count'}}\n",
    "zipReason_count.iplot(kind='bar',layout=layout)"
   ]
  },
  {
   "cell_type": "code",
   "execution_count": 16,
   "metadata": {},
   "outputs": [
    {
     "data": {
      "application/vnd.plotly.v1+json": {
       "config": {
        "linkText": "Export to plot.ly",
        "plotlyServerURL": "https://plot.ly",
        "showLink": true
       },
       "data": [
        {
         "line": {
          "color": "rgba(255, 153, 51, 1.0)",
          "dash": "solid",
          "shape": "linear",
          "width": 1.3
         },
         "mode": "lines",
         "name": "EMS",
         "text": "",
         "type": "scatter",
         "uid": "111602d9-a69e-40e0-bae2-eae508bdac4c",
         "x": [
          "2015 - 49",
          "2015 - 50",
          "2015 - 51",
          "2015 - 52",
          "2016 - 00",
          "2016 - 01",
          "2016 - 02",
          "2016 - 03",
          "2016 - 04",
          "2016 - 05",
          "2016 - 06",
          "2016 - 07",
          "2016 - 08",
          "2016 - 09",
          "2016 - 10",
          "2016 - 11",
          "2016 - 12",
          "2016 - 13",
          "2016 - 14",
          "2016 - 15",
          "2016 - 16",
          "2016 - 17",
          "2016 - 18",
          "2016 - 19",
          "2016 - 20",
          "2016 - 21",
          "2016 - 22",
          "2016 - 23",
          "2016 - 24",
          "2016 - 25",
          "2016 - 26",
          "2016 - 27",
          "2016 - 28",
          "2016 - 29",
          "2016 - 30",
          "2016 - 31",
          "2016 - 32",
          "2016 - 33",
          "2016 - 34"
         ],
         "y": [
          432,
          1252,
          1278,
          936,
          366,
          1372,
          1399,
          1314,
          1444,
          1292,
          1315,
          1312,
          1311,
          1265,
          1386,
          1359,
          1262,
          1328,
          1293,
          1298,
          1333,
          1339,
          1173,
          1356,
          1254,
          1397,
          1327,
          1321,
          1361,
          1320,
          1321,
          1291,
          1389,
          1373,
          1399,
          1416,
          1360,
          1297,
          636
         ]
        },
        {
         "line": {
          "color": "rgba(55, 128, 191, 1.0)",
          "dash": "solid",
          "shape": "linear",
          "width": 1.3
         },
         "mode": "lines",
         "name": "Fire",
         "text": "",
         "type": "scatter",
         "uid": "a5935e18-5448-4bbf-a872-430de75c6316",
         "x": [
          "2015 - 49",
          "2015 - 50",
          "2015 - 51",
          "2015 - 52",
          "2016 - 00",
          "2016 - 01",
          "2016 - 02",
          "2016 - 03",
          "2016 - 04",
          "2016 - 05",
          "2016 - 06",
          "2016 - 07",
          "2016 - 08",
          "2016 - 09",
          "2016 - 10",
          "2016 - 11",
          "2016 - 12",
          "2016 - 13",
          "2016 - 14",
          "2016 - 15",
          "2016 - 16",
          "2016 - 17",
          "2016 - 18",
          "2016 - 19",
          "2016 - 20",
          "2016 - 21",
          "2016 - 22",
          "2016 - 23",
          "2016 - 24",
          "2016 - 25",
          "2016 - 26",
          "2016 - 27",
          "2016 - 28",
          "2016 - 29",
          "2016 - 30",
          "2016 - 31",
          "2016 - 32",
          "2016 - 33",
          "2016 - 34"
         ],
         "y": [
          152,
          323,
          415,
          206,
          70,
          435,
          391,
          480,
          492,
          386,
          352,
          521,
          533,
          350,
          386,
          346,
          334,
          410,
          455,
          315,
          439,
          386,
          301,
          362,
          338,
          422,
          384,
          451,
          413,
          421,
          389,
          399,
          398,
          435,
          501,
          447,
          469,
          419,
          194
         ]
        },
        {
         "line": {
          "color": "rgba(50, 171, 96, 1.0)",
          "dash": "solid",
          "shape": "linear",
          "width": 1.3
         },
         "mode": "lines",
         "name": "Traffic",
         "text": "",
         "type": "scatter",
         "uid": "a567cfe7-27a6-4097-9676-d38a317610f7",
         "x": [
          "2015 - 49",
          "2015 - 50",
          "2015 - 51",
          "2015 - 52",
          "2016 - 00",
          "2016 - 01",
          "2016 - 02",
          "2016 - 03",
          "2016 - 04",
          "2016 - 05",
          "2016 - 06",
          "2016 - 07",
          "2016 - 08",
          "2016 - 09",
          "2016 - 10",
          "2016 - 11",
          "2016 - 12",
          "2016 - 13",
          "2016 - 14",
          "2016 - 15",
          "2016 - 16",
          "2016 - 17",
          "2016 - 18",
          "2016 - 19",
          "2016 - 20",
          "2016 - 21",
          "2016 - 22",
          "2016 - 23",
          "2016 - 24",
          "2016 - 25",
          "2016 - 26",
          "2016 - 27",
          "2016 - 28",
          "2016 - 29",
          "2016 - 30",
          "2016 - 31",
          "2016 - 32",
          "2016 - 33",
          "2016 - 34"
         ],
         "y": [
          330,
          1002,
          1044,
          599,
          162,
          910,
          1217,
          1414,
          1456,
          1001,
          895,
          1109,
          1050,
          899,
          838,
          860,
          702,
          891,
          1040,
          828,
          899,
          859,
          858,
          971,
          931,
          973,
          1010,
          1077,
          1020,
          866,
          901,
          806,
          994,
          959,
          1103,
          931,
          859,
          944,
          487
         ]
        }
       ],
       "layout": {
        "bargroupgap": 0.01,
        "height": 500,
        "title": {
         "font": {
          "size": 12
         },
         "text": "911 Calls - Date of Occurrence on Call Reason"
        },
        "width": 900,
        "xaxis": {
         "tickfont": {
          "size": 8
         },
         "title": {
          "text": "Year - Week"
         }
        },
        "yaxis": {
         "title": {
          "text": "Count"
         }
        }
       }
      },
      "text/html": [
       "<div id=\"2edc84eb-6e4e-48d9-8250-a530356f9a99\" style=\"height: 500px; width: 900px;\" class=\"plotly-graph-div\"></div><script type=\"text/javascript\">require([\"plotly\"], function(Plotly) { window.PLOTLYENV=window.PLOTLYENV || {};window.PLOTLYENV.BASE_URL=\"https://plot.ly\";Plotly.newPlot(\"2edc84eb-6e4e-48d9-8250-a530356f9a99\", [{\"line\": {\"color\": \"rgba(255, 153, 51, 1.0)\", \"dash\": \"solid\", \"shape\": \"linear\", \"width\": 1.3}, \"mode\": \"lines\", \"name\": \"EMS\", \"text\": \"\", \"x\": [\"2015 - 49\", \"2015 - 50\", \"2015 - 51\", \"2015 - 52\", \"2016 - 00\", \"2016 - 01\", \"2016 - 02\", \"2016 - 03\", \"2016 - 04\", \"2016 - 05\", \"2016 - 06\", \"2016 - 07\", \"2016 - 08\", \"2016 - 09\", \"2016 - 10\", \"2016 - 11\", \"2016 - 12\", \"2016 - 13\", \"2016 - 14\", \"2016 - 15\", \"2016 - 16\", \"2016 - 17\", \"2016 - 18\", \"2016 - 19\", \"2016 - 20\", \"2016 - 21\", \"2016 - 22\", \"2016 - 23\", \"2016 - 24\", \"2016 - 25\", \"2016 - 26\", \"2016 - 27\", \"2016 - 28\", \"2016 - 29\", \"2016 - 30\", \"2016 - 31\", \"2016 - 32\", \"2016 - 33\", \"2016 - 34\"], \"y\": [432, 1252, 1278, 936, 366, 1372, 1399, 1314, 1444, 1292, 1315, 1312, 1311, 1265, 1386, 1359, 1262, 1328, 1293, 1298, 1333, 1339, 1173, 1356, 1254, 1397, 1327, 1321, 1361, 1320, 1321, 1291, 1389, 1373, 1399, 1416, 1360, 1297, 636], \"type\": \"scatter\", \"uid\": \"31efc933-876a-4405-89a7-c4f6429e31fc\"}, {\"line\": {\"color\": \"rgba(55, 128, 191, 1.0)\", \"dash\": \"solid\", \"shape\": \"linear\", \"width\": 1.3}, \"mode\": \"lines\", \"name\": \"Fire\", \"text\": \"\", \"x\": [\"2015 - 49\", \"2015 - 50\", \"2015 - 51\", \"2015 - 52\", \"2016 - 00\", \"2016 - 01\", \"2016 - 02\", \"2016 - 03\", \"2016 - 04\", \"2016 - 05\", \"2016 - 06\", \"2016 - 07\", \"2016 - 08\", \"2016 - 09\", \"2016 - 10\", \"2016 - 11\", \"2016 - 12\", \"2016 - 13\", \"2016 - 14\", \"2016 - 15\", \"2016 - 16\", \"2016 - 17\", \"2016 - 18\", \"2016 - 19\", \"2016 - 20\", \"2016 - 21\", \"2016 - 22\", \"2016 - 23\", \"2016 - 24\", \"2016 - 25\", \"2016 - 26\", \"2016 - 27\", \"2016 - 28\", \"2016 - 29\", \"2016 - 30\", \"2016 - 31\", \"2016 - 32\", \"2016 - 33\", \"2016 - 34\"], \"y\": [152, 323, 415, 206, 70, 435, 391, 480, 492, 386, 352, 521, 533, 350, 386, 346, 334, 410, 455, 315, 439, 386, 301, 362, 338, 422, 384, 451, 413, 421, 389, 399, 398, 435, 501, 447, 469, 419, 194], \"type\": \"scatter\", \"uid\": \"f9c22b49-3117-427f-b19a-8af7e951ace4\"}, {\"line\": {\"color\": \"rgba(50, 171, 96, 1.0)\", \"dash\": \"solid\", \"shape\": \"linear\", \"width\": 1.3}, \"mode\": \"lines\", \"name\": \"Traffic\", \"text\": \"\", \"x\": [\"2015 - 49\", \"2015 - 50\", \"2015 - 51\", \"2015 - 52\", \"2016 - 00\", \"2016 - 01\", \"2016 - 02\", \"2016 - 03\", \"2016 - 04\", \"2016 - 05\", \"2016 - 06\", \"2016 - 07\", \"2016 - 08\", \"2016 - 09\", \"2016 - 10\", \"2016 - 11\", \"2016 - 12\", \"2016 - 13\", \"2016 - 14\", \"2016 - 15\", \"2016 - 16\", \"2016 - 17\", \"2016 - 18\", \"2016 - 19\", \"2016 - 20\", \"2016 - 21\", \"2016 - 22\", \"2016 - 23\", \"2016 - 24\", \"2016 - 25\", \"2016 - 26\", \"2016 - 27\", \"2016 - 28\", \"2016 - 29\", \"2016 - 30\", \"2016 - 31\", \"2016 - 32\", \"2016 - 33\", \"2016 - 34\"], \"y\": [330, 1002, 1044, 599, 162, 910, 1217, 1414, 1456, 1001, 895, 1109, 1050, 899, 838, 860, 702, 891, 1040, 828, 899, 859, 858, 971, 931, 973, 1010, 1077, 1020, 866, 901, 806, 994, 959, 1103, 931, 859, 944, 487], \"type\": \"scatter\", \"uid\": \"9fd6eb62-95a0-467b-b57a-0fb7ad26caaf\"}], {\"bargroupgap\": 0.01, \"height\": 500, \"title\": {\"text\": \"911 Calls - Date of Occurrence on Call Reason\", \"font\": {\"size\": 12}}, \"width\": 900, \"xaxis\": {\"tickfont\": {\"size\": 8}, \"title\": {\"text\": \"Year - Week\"}}, \"yaxis\": {\"title\": {\"text\": \"Count\"}}}, {\"showLink\": true, \"linkText\": \"Export to plot.ly\", \"plotlyServerURL\": \"https://plot.ly\"})});</script>"
      ],
      "text/vnd.plotly.v1+html": [
       "<div id=\"2edc84eb-6e4e-48d9-8250-a530356f9a99\" style=\"height: 500px; width: 900px;\" class=\"plotly-graph-div\"></div><script type=\"text/javascript\">require([\"plotly\"], function(Plotly) { window.PLOTLYENV=window.PLOTLYENV || {};window.PLOTLYENV.BASE_URL=\"https://plot.ly\";Plotly.newPlot(\"2edc84eb-6e4e-48d9-8250-a530356f9a99\", [{\"line\": {\"color\": \"rgba(255, 153, 51, 1.0)\", \"dash\": \"solid\", \"shape\": \"linear\", \"width\": 1.3}, \"mode\": \"lines\", \"name\": \"EMS\", \"text\": \"\", \"x\": [\"2015 - 49\", \"2015 - 50\", \"2015 - 51\", \"2015 - 52\", \"2016 - 00\", \"2016 - 01\", \"2016 - 02\", \"2016 - 03\", \"2016 - 04\", \"2016 - 05\", \"2016 - 06\", \"2016 - 07\", \"2016 - 08\", \"2016 - 09\", \"2016 - 10\", \"2016 - 11\", \"2016 - 12\", \"2016 - 13\", \"2016 - 14\", \"2016 - 15\", \"2016 - 16\", \"2016 - 17\", \"2016 - 18\", \"2016 - 19\", \"2016 - 20\", \"2016 - 21\", \"2016 - 22\", \"2016 - 23\", \"2016 - 24\", \"2016 - 25\", \"2016 - 26\", \"2016 - 27\", \"2016 - 28\", \"2016 - 29\", \"2016 - 30\", \"2016 - 31\", \"2016 - 32\", \"2016 - 33\", \"2016 - 34\"], \"y\": [432, 1252, 1278, 936, 366, 1372, 1399, 1314, 1444, 1292, 1315, 1312, 1311, 1265, 1386, 1359, 1262, 1328, 1293, 1298, 1333, 1339, 1173, 1356, 1254, 1397, 1327, 1321, 1361, 1320, 1321, 1291, 1389, 1373, 1399, 1416, 1360, 1297, 636], \"type\": \"scatter\", \"uid\": \"31efc933-876a-4405-89a7-c4f6429e31fc\"}, {\"line\": {\"color\": \"rgba(55, 128, 191, 1.0)\", \"dash\": \"solid\", \"shape\": \"linear\", \"width\": 1.3}, \"mode\": \"lines\", \"name\": \"Fire\", \"text\": \"\", \"x\": [\"2015 - 49\", \"2015 - 50\", \"2015 - 51\", \"2015 - 52\", \"2016 - 00\", \"2016 - 01\", \"2016 - 02\", \"2016 - 03\", \"2016 - 04\", \"2016 - 05\", \"2016 - 06\", \"2016 - 07\", \"2016 - 08\", \"2016 - 09\", \"2016 - 10\", \"2016 - 11\", \"2016 - 12\", \"2016 - 13\", \"2016 - 14\", \"2016 - 15\", \"2016 - 16\", \"2016 - 17\", \"2016 - 18\", \"2016 - 19\", \"2016 - 20\", \"2016 - 21\", \"2016 - 22\", \"2016 - 23\", \"2016 - 24\", \"2016 - 25\", \"2016 - 26\", \"2016 - 27\", \"2016 - 28\", \"2016 - 29\", \"2016 - 30\", \"2016 - 31\", \"2016 - 32\", \"2016 - 33\", \"2016 - 34\"], \"y\": [152, 323, 415, 206, 70, 435, 391, 480, 492, 386, 352, 521, 533, 350, 386, 346, 334, 410, 455, 315, 439, 386, 301, 362, 338, 422, 384, 451, 413, 421, 389, 399, 398, 435, 501, 447, 469, 419, 194], \"type\": \"scatter\", \"uid\": \"f9c22b49-3117-427f-b19a-8af7e951ace4\"}, {\"line\": {\"color\": \"rgba(50, 171, 96, 1.0)\", \"dash\": \"solid\", \"shape\": \"linear\", \"width\": 1.3}, \"mode\": \"lines\", \"name\": \"Traffic\", \"text\": \"\", \"x\": [\"2015 - 49\", \"2015 - 50\", \"2015 - 51\", \"2015 - 52\", \"2016 - 00\", \"2016 - 01\", \"2016 - 02\", \"2016 - 03\", \"2016 - 04\", \"2016 - 05\", \"2016 - 06\", \"2016 - 07\", \"2016 - 08\", \"2016 - 09\", \"2016 - 10\", \"2016 - 11\", \"2016 - 12\", \"2016 - 13\", \"2016 - 14\", \"2016 - 15\", \"2016 - 16\", \"2016 - 17\", \"2016 - 18\", \"2016 - 19\", \"2016 - 20\", \"2016 - 21\", \"2016 - 22\", \"2016 - 23\", \"2016 - 24\", \"2016 - 25\", \"2016 - 26\", \"2016 - 27\", \"2016 - 28\", \"2016 - 29\", \"2016 - 30\", \"2016 - 31\", \"2016 - 32\", \"2016 - 33\", \"2016 - 34\"], \"y\": [330, 1002, 1044, 599, 162, 910, 1217, 1414, 1456, 1001, 895, 1109, 1050, 899, 838, 860, 702, 891, 1040, 828, 899, 859, 858, 971, 931, 973, 1010, 1077, 1020, 866, 901, 806, 994, 959, 1103, 931, 859, 944, 487], \"type\": \"scatter\", \"uid\": \"9fd6eb62-95a0-467b-b57a-0fb7ad26caaf\"}], {\"bargroupgap\": 0.01, \"height\": 500, \"title\": {\"text\": \"911 Calls - Date of Occurrence on Call Reason\", \"font\": {\"size\": 12}}, \"width\": 900, \"xaxis\": {\"tickfont\": {\"size\": 8}, \"title\": {\"text\": \"Year - Week\"}}, \"yaxis\": {\"title\": {\"text\": \"Count\"}}}, {\"showLink\": true, \"linkText\": \"Export to plot.ly\", \"plotlyServerURL\": \"https://plot.ly\"})});</script>"
      ]
     },
     "metadata": {},
     "output_type": "display_data"
    }
   ],
   "source": [
    "df1.groupby(by=['Reason']).nunique()['Station']\n",
    "Reason=df1.groupby(['Year-Week','Reason']).count()['Issue'].unstack()\n",
    "layout={'title':'911 Calls - Date of Occurrence on Call Reason',\n",
    "        'bargroupgap':0.01,'width':900,'height':500,'titlefont':{'size':12},\n",
    "        'xaxis':{'title':'Year - Week','tickfont':{'size':8}},\n",
    "        'yaxis':{'title':'Count'}}\n",
    "Reason.iplot(kind='scatter',mode='lines',layout=layout)"
   ]
  },
  {
   "cell_type": "code",
   "execution_count": 17,
   "metadata": {
    "scrolled": true
   },
   "outputs": [],
   "source": [
    "Issues=df1.groupby(['Issue','Reason']).count()['Date'].unstack()\n",
    "Issues['Sum']=Issues.sum(axis=1)\n",
    "Issues.sort_values(by=['Sum'],ascending=False,inplace=True)\n",
    "Issues.drop(columns=['Sum'],inplace=True)"
   ]
  },
  {
   "cell_type": "code",
   "execution_count": 18,
   "metadata": {},
   "outputs": [
    {
     "data": {
      "application/vnd.plotly.v1+json": {
       "config": {
        "linkText": "Export to plot.ly",
        "plotlyServerURL": "https://plot.ly",
        "showLink": true
       },
       "data": [
        {
         "marker": {
          "color": "rgba(255, 153, 51, 0.6)",
          "line": {
           "color": "rgba(255, 153, 51, 1.0)",
           "width": 1
          }
         },
         "name": "EMS",
         "orientation": "v",
         "text": "",
         "type": "bar",
         "uid": "f2f10a55-25ea-4e3c-80d4-450d2ed8a238",
         "x": [
          "VEHICLE ACCIDENT",
          "DISABLED VEHICLE",
          "FIRE ALARM",
          "RESPIRATORY EMERGENCY",
          "CARDIAC EMERGENCY",
          "FALL VICTIM",
          "ROAD OBSTRUCTION",
          "SUBJECT IN PAIN",
          "HEAD INJURY",
          "UNKNOWN MEDICAL EMERGENCY",
          "SYNCOPAL EPISODE",
          "SEIZURES",
          "FIRE INVESTIGATION",
          "GENERAL WEAKNESS",
          "ABDOMINAL PAINS",
          "ALTERED MENTAL STATUS",
          "MEDICAL ALERT ALARM",
          "HEMORRHAGING",
          "CVA/STROKE",
          "OVERDOSE",
          "NAUSEA/VOMITING",
          "UNCONSCIOUS SUBJECT",
          "VEHICLE FIRE",
          "HAZARDOUS ROAD CONDITIONS",
          "GAS",
          "BUILDING FIRE",
          "DIABETIC EMERGENCY",
          "DIZZINESS",
          "BACK PAINS/INJURY",
          "FIRE SPECIAL SERVICE",
          "UNRESPONSIVE SUBJECT",
          "ASSAULT VICTIM",
          "CARBON MONOXIDE DETECTOR",
          "ELECTRICAL FIRE OUTSIDE",
          "FRACTURE",
          "WOODS/FIELD FIRE",
          "CARDIAC ARREST",
          "LACERATIONS",
          "FEVER",
          "ALLERGIC REACTION",
          "RESCUE",
          "UNKNOWN TYPE FIRE",
          "DEHYDRATION",
          "TRASH/DUMPSTER FIRE",
          "FIRE POLICE NEEDED",
          "APPLIANCE FIRE",
          "CHOKING",
          "MATERNITY",
          "VEHICLE LEAKING FUEL",
          "DEBRIS/FLUIDS ON HIGHWAY",
          "EMS SPECIAL SERVICE",
          "S/B AT HELICOPTER LANDING",
          "BURN VICTIM",
          "ANIMAL BITE",
          "HEAT EXHAUSTION",
          "SHOOTING",
          "EYE INJURY",
          "POISONING",
          "STABBING",
          "TRANSFERRED CALL",
          "PUMP DETAIL",
          "AMPUTATION",
          "HAZARDOUS MATERIALS INCIDENT",
          "TRAIN CRASH",
          "DROWNING",
          "INDUSTRIAL ACCIDENT",
          "SUSPICIOUS",
          "POLICE INFORMATION",
          "PLANE CRASH",
          "ELECTROCUTION",
          "WARRANT SERVICE",
          "ACTIVE SHOOTER",
          "BOMB DEVICE FOUND"
         ],
         "y": [
          3935,
          1,
          14,
          5112,
          5012,
          4863,
          "",
          2687,
          2631,
          1873,
          1717,
          1630,
          18,
          1464,
          1436,
          1386,
          1342,
          1259,
          1202,
          1191,
          1131,
          1115,
          30,
          "",
          41,
          201,
          836,
          799,
          739,
          55,
          694,
          657,
          82,
          "",
          622,
          7,
          469,
          457,
          441,
          438,
          78,
          3,
          283,
          "",
          "",
          11,
          191,
          182,
          "",
          2,
          130,
          12,
          47,
          83,
          78,
          39,
          36,
          36,
          32,
          7,
          "",
          14,
          6,
          3,
          4,
          3,
          2,
          "",
          1,
          2,
          2,
          2,
          1
         ]
        },
        {
         "marker": {
          "color": "rgba(55, 128, 191, 0.6)",
          "line": {
           "color": "rgba(55, 128, 191, 1.0)",
           "width": 1
          }
         },
         "name": "Fire",
         "orientation": "v",
         "text": "",
         "type": "bar",
         "uid": "ead13ddb-7196-4c7f-afcd-9429bf029154",
         "x": [
          "VEHICLE ACCIDENT",
          "DISABLED VEHICLE",
          "FIRE ALARM",
          "RESPIRATORY EMERGENCY",
          "CARDIAC EMERGENCY",
          "FALL VICTIM",
          "ROAD OBSTRUCTION",
          "SUBJECT IN PAIN",
          "HEAD INJURY",
          "UNKNOWN MEDICAL EMERGENCY",
          "SYNCOPAL EPISODE",
          "SEIZURES",
          "FIRE INVESTIGATION",
          "GENERAL WEAKNESS",
          "ABDOMINAL PAINS",
          "ALTERED MENTAL STATUS",
          "MEDICAL ALERT ALARM",
          "HEMORRHAGING",
          "CVA/STROKE",
          "OVERDOSE",
          "NAUSEA/VOMITING",
          "UNCONSCIOUS SUBJECT",
          "VEHICLE FIRE",
          "HAZARDOUS ROAD CONDITIONS",
          "GAS",
          "BUILDING FIRE",
          "DIABETIC EMERGENCY",
          "DIZZINESS",
          "BACK PAINS/INJURY",
          "FIRE SPECIAL SERVICE",
          "UNRESPONSIVE SUBJECT",
          "ASSAULT VICTIM",
          "CARBON MONOXIDE DETECTOR",
          "ELECTRICAL FIRE OUTSIDE",
          "FRACTURE",
          "WOODS/FIELD FIRE",
          "CARDIAC ARREST",
          "LACERATIONS",
          "FEVER",
          "ALLERGIC REACTION",
          "RESCUE",
          "UNKNOWN TYPE FIRE",
          "DEHYDRATION",
          "TRASH/DUMPSTER FIRE",
          "FIRE POLICE NEEDED",
          "APPLIANCE FIRE",
          "CHOKING",
          "MATERNITY",
          "VEHICLE LEAKING FUEL",
          "DEBRIS/FLUIDS ON HIGHWAY",
          "EMS SPECIAL SERVICE",
          "S/B AT HELICOPTER LANDING",
          "BURN VICTIM",
          "ANIMAL BITE",
          "HEAT EXHAUSTION",
          "SHOOTING",
          "EYE INJURY",
          "POISONING",
          "STABBING",
          "TRANSFERRED CALL",
          "PUMP DETAIL",
          "AMPUTATION",
          "HAZARDOUS MATERIALS INCIDENT",
          "TRAIN CRASH",
          "DROWNING",
          "INDUSTRIAL ACCIDENT",
          "SUSPICIOUS",
          "POLICE INFORMATION",
          "PLANE CRASH",
          "ELECTROCUTION",
          "WARRANT SERVICE",
          "ACTIVE SHOOTER",
          "BOMB DEVICE FOUND"
         ],
         "y": [
          1638,
          "",
          5496,
          "",
          "",
          "",
          "",
          "",
          "",
          1,
          1,
          "",
          1460,
          "",
          "",
          "",
          2,
          "",
          "",
          "",
          "",
          1,
          516,
          "",
          1028,
          807,
          1,
          "",
          "",
          666,
          "",
          "",
          575,
          622,
          "",
          514,
          42,
          "",
          "",
          "",
          251,
          322,
          "",
          229,
          215,
          182,
          "",
          "",
          73,
          72,
          2,
          104,
          39,
          "",
          "",
          "",
          "",
          "",
          "",
          23,
          25,
          "",
          5,
          5,
          "",
          "",
          "",
          2,
          1,
          "",
          "",
          "",
          ""
         ]
        },
        {
         "marker": {
          "color": "rgba(50, 171, 96, 0.6)",
          "line": {
           "color": "rgba(50, 171, 96, 1.0)",
           "width": 1
          }
         },
         "name": "Traffic",
         "orientation": "v",
         "text": "",
         "type": "bar",
         "uid": "e0f9f893-4708-4719-8565-a918a7faaffc",
         "x": [
          "VEHICLE ACCIDENT",
          "DISABLED VEHICLE",
          "FIRE ALARM",
          "RESPIRATORY EMERGENCY",
          "CARDIAC EMERGENCY",
          "FALL VICTIM",
          "ROAD OBSTRUCTION",
          "SUBJECT IN PAIN",
          "HEAD INJURY",
          "UNKNOWN MEDICAL EMERGENCY",
          "SYNCOPAL EPISODE",
          "SEIZURES",
          "FIRE INVESTIGATION",
          "GENERAL WEAKNESS",
          "ABDOMINAL PAINS",
          "ALTERED MENTAL STATUS",
          "MEDICAL ALERT ALARM",
          "HEMORRHAGING",
          "CVA/STROKE",
          "OVERDOSE",
          "NAUSEA/VOMITING",
          "UNCONSCIOUS SUBJECT",
          "VEHICLE FIRE",
          "HAZARDOUS ROAD CONDITIONS",
          "GAS",
          "BUILDING FIRE",
          "DIABETIC EMERGENCY",
          "DIZZINESS",
          "BACK PAINS/INJURY",
          "FIRE SPECIAL SERVICE",
          "UNRESPONSIVE SUBJECT",
          "ASSAULT VICTIM",
          "CARBON MONOXIDE DETECTOR",
          "ELECTRICAL FIRE OUTSIDE",
          "FRACTURE",
          "WOODS/FIELD FIRE",
          "CARDIAC ARREST",
          "LACERATIONS",
          "FEVER",
          "ALLERGIC REACTION",
          "RESCUE",
          "UNKNOWN TYPE FIRE",
          "DEHYDRATION",
          "TRASH/DUMPSTER FIRE",
          "FIRE POLICE NEEDED",
          "APPLIANCE FIRE",
          "CHOKING",
          "MATERNITY",
          "VEHICLE LEAKING FUEL",
          "DEBRIS/FLUIDS ON HIGHWAY",
          "EMS SPECIAL SERVICE",
          "S/B AT HELICOPTER LANDING",
          "BURN VICTIM",
          "ANIMAL BITE",
          "HEAT EXHAUSTION",
          "SHOOTING",
          "EYE INJURY",
          "POISONING",
          "STABBING",
          "TRANSFERRED CALL",
          "PUMP DETAIL",
          "AMPUTATION",
          "HAZARDOUS MATERIALS INCIDENT",
          "TRAIN CRASH",
          "DROWNING",
          "INDUSTRIAL ACCIDENT",
          "SUSPICIOUS",
          "POLICE INFORMATION",
          "PLANE CRASH",
          "ELECTROCUTION",
          "WARRANT SERVICE",
          "ACTIVE SHOOTER",
          "BOMB DEVICE FOUND"
         ],
         "y": [
          23066,
          7702,
          "",
          "",
          "",
          "",
          3144,
          "",
          "",
          "",
          "",
          "",
          "",
          "",
          "",
          "",
          "",
          "",
          "",
          "",
          "",
          "",
          553,
          1086,
          "",
          "",
          "",
          "",
          "",
          "",
          "",
          "",
          "",
          "",
          "",
          "",
          "",
          "",
          "",
          "",
          "",
          "",
          "",
          "",
          "",
          "",
          "",
          "",
          77,
          67,
          "",
          "",
          "",
          "",
          "",
          "",
          "",
          "",
          "",
          "",
          "",
          "",
          "",
          "",
          "",
          "",
          "",
          "",
          "",
          "",
          "",
          "",
          ""
         ]
        }
       ],
       "layout": {
        "bargroupgap": 0.01,
        "barmode": "stack",
        "height": 500,
        "margin": {
         "b": 100
        },
        "title": {
         "font": {
          "size": 12
         },
         "text": "911 Calls - Call Issue on Call Reason"
        },
        "width": 900,
        "xaxis": {
         "tickfont": {
          "size": 6.5
         },
         "tickformat": " ",
         "title": {
          "text": "Issue"
         },
         "type": "category"
        },
        "yaxis": {
         "title": {
          "text": "Count"
         }
        }
       }
      },
      "text/html": [
       "<div id=\"3d396b2c-95e5-4151-a3ae-6f0d2fca3904\" style=\"height: 500px; width: 900px;\" class=\"plotly-graph-div\"></div><script type=\"text/javascript\">require([\"plotly\"], function(Plotly) { window.PLOTLYENV=window.PLOTLYENV || {};window.PLOTLYENV.BASE_URL=\"https://plot.ly\";Plotly.newPlot(\"3d396b2c-95e5-4151-a3ae-6f0d2fca3904\", [{\"marker\": {\"color\": \"rgba(255, 153, 51, 0.6)\", \"line\": {\"color\": \"rgba(255, 153, 51, 1.0)\", \"width\": 1}}, \"name\": \"EMS\", \"orientation\": \"v\", \"text\": \"\", \"x\": [\"VEHICLE ACCIDENT\", \"DISABLED VEHICLE\", \"FIRE ALARM\", \"RESPIRATORY EMERGENCY\", \"CARDIAC EMERGENCY\", \"FALL VICTIM\", \"ROAD OBSTRUCTION\", \"SUBJECT IN PAIN\", \"HEAD INJURY\", \"UNKNOWN MEDICAL EMERGENCY\", \"SYNCOPAL EPISODE\", \"SEIZURES\", \"FIRE INVESTIGATION\", \"GENERAL WEAKNESS\", \"ABDOMINAL PAINS\", \"ALTERED MENTAL STATUS\", \"MEDICAL ALERT ALARM\", \"HEMORRHAGING\", \"CVA/STROKE\", \"OVERDOSE\", \"NAUSEA/VOMITING\", \"UNCONSCIOUS SUBJECT\", \"VEHICLE FIRE\", \"HAZARDOUS ROAD CONDITIONS\", \"GAS\", \"BUILDING FIRE\", \"DIABETIC EMERGENCY\", \"DIZZINESS\", \"BACK PAINS/INJURY\", \"FIRE SPECIAL SERVICE\", \"UNRESPONSIVE SUBJECT\", \"ASSAULT VICTIM\", \"CARBON MONOXIDE DETECTOR\", \"ELECTRICAL FIRE OUTSIDE\", \"FRACTURE\", \"WOODS/FIELD FIRE\", \"CARDIAC ARREST\", \"LACERATIONS\", \"FEVER\", \"ALLERGIC REACTION\", \"RESCUE\", \"UNKNOWN TYPE FIRE\", \"DEHYDRATION\", \"TRASH/DUMPSTER FIRE\", \"FIRE POLICE NEEDED\", \"APPLIANCE FIRE\", \"CHOKING\", \"MATERNITY\", \"VEHICLE LEAKING FUEL\", \"DEBRIS/FLUIDS ON HIGHWAY\", \"EMS SPECIAL SERVICE\", \"S/B AT HELICOPTER LANDING\", \"BURN VICTIM\", \"ANIMAL BITE\", \"HEAT EXHAUSTION\", \"SHOOTING\", \"EYE INJURY\", \"POISONING\", \"STABBING\", \"TRANSFERRED CALL\", \"PUMP DETAIL\", \"AMPUTATION\", \"HAZARDOUS MATERIALS INCIDENT\", \"TRAIN CRASH\", \"DROWNING\", \"INDUSTRIAL ACCIDENT\", \"SUSPICIOUS\", \"POLICE INFORMATION\", \"PLANE CRASH\", \"ELECTROCUTION\", \"WARRANT SERVICE\", \"ACTIVE SHOOTER\", \"BOMB DEVICE FOUND\"], \"y\": [3935.0, 1.0, 14.0, 5112.0, 5012.0, 4863.0, \"\", 2687.0, 2631.0, 1873.0, 1717.0, 1630.0, 18.0, 1464.0, 1436.0, 1386.0, 1342.0, 1259.0, 1202.0, 1191.0, 1131.0, 1115.0, 30.0, \"\", 41.0, 201.0, 836.0, 799.0, 739.0, 55.0, 694.0, 657.0, 82.0, \"\", 622.0, 7.0, 469.0, 457.0, 441.0, 438.0, 78.0, 3.0, 283.0, \"\", \"\", 11.0, 191.0, 182.0, \"\", 2.0, 130.0, 12.0, 47.0, 83.0, 78.0, 39.0, 36.0, 36.0, 32.0, 7.0, \"\", 14.0, 6.0, 3.0, 4.0, 3.0, 2.0, \"\", 1.0, 2.0, 2.0, 2.0, 1.0], \"type\": \"bar\", \"uid\": \"07a097e0-e3c9-4627-9733-f9b2dbe669fe\"}, {\"marker\": {\"color\": \"rgba(55, 128, 191, 0.6)\", \"line\": {\"color\": \"rgba(55, 128, 191, 1.0)\", \"width\": 1}}, \"name\": \"Fire\", \"orientation\": \"v\", \"text\": \"\", \"x\": [\"VEHICLE ACCIDENT\", \"DISABLED VEHICLE\", \"FIRE ALARM\", \"RESPIRATORY EMERGENCY\", \"CARDIAC EMERGENCY\", \"FALL VICTIM\", \"ROAD OBSTRUCTION\", \"SUBJECT IN PAIN\", \"HEAD INJURY\", \"UNKNOWN MEDICAL EMERGENCY\", \"SYNCOPAL EPISODE\", \"SEIZURES\", \"FIRE INVESTIGATION\", \"GENERAL WEAKNESS\", \"ABDOMINAL PAINS\", \"ALTERED MENTAL STATUS\", \"MEDICAL ALERT ALARM\", \"HEMORRHAGING\", \"CVA/STROKE\", \"OVERDOSE\", \"NAUSEA/VOMITING\", \"UNCONSCIOUS SUBJECT\", \"VEHICLE FIRE\", \"HAZARDOUS ROAD CONDITIONS\", \"GAS\", \"BUILDING FIRE\", \"DIABETIC EMERGENCY\", \"DIZZINESS\", \"BACK PAINS/INJURY\", \"FIRE SPECIAL SERVICE\", \"UNRESPONSIVE SUBJECT\", \"ASSAULT VICTIM\", \"CARBON MONOXIDE DETECTOR\", \"ELECTRICAL FIRE OUTSIDE\", \"FRACTURE\", \"WOODS/FIELD FIRE\", \"CARDIAC ARREST\", \"LACERATIONS\", \"FEVER\", \"ALLERGIC REACTION\", \"RESCUE\", \"UNKNOWN TYPE FIRE\", \"DEHYDRATION\", \"TRASH/DUMPSTER FIRE\", \"FIRE POLICE NEEDED\", \"APPLIANCE FIRE\", \"CHOKING\", \"MATERNITY\", \"VEHICLE LEAKING FUEL\", \"DEBRIS/FLUIDS ON HIGHWAY\", \"EMS SPECIAL SERVICE\", \"S/B AT HELICOPTER LANDING\", \"BURN VICTIM\", \"ANIMAL BITE\", \"HEAT EXHAUSTION\", \"SHOOTING\", \"EYE INJURY\", \"POISONING\", \"STABBING\", \"TRANSFERRED CALL\", \"PUMP DETAIL\", \"AMPUTATION\", \"HAZARDOUS MATERIALS INCIDENT\", \"TRAIN CRASH\", \"DROWNING\", \"INDUSTRIAL ACCIDENT\", \"SUSPICIOUS\", \"POLICE INFORMATION\", \"PLANE CRASH\", \"ELECTROCUTION\", \"WARRANT SERVICE\", \"ACTIVE SHOOTER\", \"BOMB DEVICE FOUND\"], \"y\": [1638.0, \"\", 5496.0, \"\", \"\", \"\", \"\", \"\", \"\", 1.0, 1.0, \"\", 1460.0, \"\", \"\", \"\", 2.0, \"\", \"\", \"\", \"\", 1.0, 516.0, \"\", 1028.0, 807.0, 1.0, \"\", \"\", 666.0, \"\", \"\", 575.0, 622.0, \"\", 514.0, 42.0, \"\", \"\", \"\", 251.0, 322.0, \"\", 229.0, 215.0, 182.0, \"\", \"\", 73.0, 72.0, 2.0, 104.0, 39.0, \"\", \"\", \"\", \"\", \"\", \"\", 23.0, 25.0, \"\", 5.0, 5.0, \"\", \"\", \"\", 2.0, 1.0, \"\", \"\", \"\", \"\"], \"type\": \"bar\", \"uid\": \"5205a785-bd17-4424-87b8-10799fe7ed28\"}, {\"marker\": {\"color\": \"rgba(50, 171, 96, 0.6)\", \"line\": {\"color\": \"rgba(50, 171, 96, 1.0)\", \"width\": 1}}, \"name\": \"Traffic\", \"orientation\": \"v\", \"text\": \"\", \"x\": [\"VEHICLE ACCIDENT\", \"DISABLED VEHICLE\", \"FIRE ALARM\", \"RESPIRATORY EMERGENCY\", \"CARDIAC EMERGENCY\", \"FALL VICTIM\", \"ROAD OBSTRUCTION\", \"SUBJECT IN PAIN\", \"HEAD INJURY\", \"UNKNOWN MEDICAL EMERGENCY\", \"SYNCOPAL EPISODE\", \"SEIZURES\", \"FIRE INVESTIGATION\", \"GENERAL WEAKNESS\", \"ABDOMINAL PAINS\", \"ALTERED MENTAL STATUS\", \"MEDICAL ALERT ALARM\", \"HEMORRHAGING\", \"CVA/STROKE\", \"OVERDOSE\", \"NAUSEA/VOMITING\", \"UNCONSCIOUS SUBJECT\", \"VEHICLE FIRE\", \"HAZARDOUS ROAD CONDITIONS\", \"GAS\", \"BUILDING FIRE\", \"DIABETIC EMERGENCY\", \"DIZZINESS\", \"BACK PAINS/INJURY\", \"FIRE SPECIAL SERVICE\", \"UNRESPONSIVE SUBJECT\", \"ASSAULT VICTIM\", \"CARBON MONOXIDE DETECTOR\", \"ELECTRICAL FIRE OUTSIDE\", \"FRACTURE\", \"WOODS/FIELD FIRE\", \"CARDIAC ARREST\", \"LACERATIONS\", \"FEVER\", \"ALLERGIC REACTION\", \"RESCUE\", \"UNKNOWN TYPE FIRE\", \"DEHYDRATION\", \"TRASH/DUMPSTER FIRE\", \"FIRE POLICE NEEDED\", \"APPLIANCE FIRE\", \"CHOKING\", \"MATERNITY\", \"VEHICLE LEAKING FUEL\", \"DEBRIS/FLUIDS ON HIGHWAY\", \"EMS SPECIAL SERVICE\", \"S/B AT HELICOPTER LANDING\", \"BURN VICTIM\", \"ANIMAL BITE\", \"HEAT EXHAUSTION\", \"SHOOTING\", \"EYE INJURY\", \"POISONING\", \"STABBING\", \"TRANSFERRED CALL\", \"PUMP DETAIL\", \"AMPUTATION\", \"HAZARDOUS MATERIALS INCIDENT\", \"TRAIN CRASH\", \"DROWNING\", \"INDUSTRIAL ACCIDENT\", \"SUSPICIOUS\", \"POLICE INFORMATION\", \"PLANE CRASH\", \"ELECTROCUTION\", \"WARRANT SERVICE\", \"ACTIVE SHOOTER\", \"BOMB DEVICE FOUND\"], \"y\": [23066.0, 7702.0, \"\", \"\", \"\", \"\", 3144.0, \"\", \"\", \"\", \"\", \"\", \"\", \"\", \"\", \"\", \"\", \"\", \"\", \"\", \"\", \"\", 553.0, 1086.0, \"\", \"\", \"\", \"\", \"\", \"\", \"\", \"\", \"\", \"\", \"\", \"\", \"\", \"\", \"\", \"\", \"\", \"\", \"\", \"\", \"\", \"\", \"\", \"\", 77.0, 67.0, \"\", \"\", \"\", \"\", \"\", \"\", \"\", \"\", \"\", \"\", \"\", \"\", \"\", \"\", \"\", \"\", \"\", \"\", \"\", \"\", \"\", \"\", \"\"], \"type\": \"bar\", \"uid\": \"010207e5-03b5-4796-be5d-c84d32f13f1b\"}], {\"bargroupgap\": 0.01, \"barmode\": \"stack\", \"height\": 500, \"margin\": {\"b\": 100}, \"title\": {\"text\": \"911 Calls - Call Issue on Call Reason\", \"font\": {\"size\": 12}}, \"width\": 900, \"xaxis\": {\"tickfont\": {\"size\": 6.5}, \"tickformat\": \" \", \"title\": {\"text\": \"Issue\"}, \"type\": \"category\"}, \"yaxis\": {\"title\": {\"text\": \"Count\"}}}, {\"showLink\": true, \"linkText\": \"Export to plot.ly\", \"plotlyServerURL\": \"https://plot.ly\"})});</script>"
      ],
      "text/vnd.plotly.v1+html": [
       "<div id=\"3d396b2c-95e5-4151-a3ae-6f0d2fca3904\" style=\"height: 500px; width: 900px;\" class=\"plotly-graph-div\"></div><script type=\"text/javascript\">require([\"plotly\"], function(Plotly) { window.PLOTLYENV=window.PLOTLYENV || {};window.PLOTLYENV.BASE_URL=\"https://plot.ly\";Plotly.newPlot(\"3d396b2c-95e5-4151-a3ae-6f0d2fca3904\", [{\"marker\": {\"color\": \"rgba(255, 153, 51, 0.6)\", \"line\": {\"color\": \"rgba(255, 153, 51, 1.0)\", \"width\": 1}}, \"name\": \"EMS\", \"orientation\": \"v\", \"text\": \"\", \"x\": [\"VEHICLE ACCIDENT\", \"DISABLED VEHICLE\", \"FIRE ALARM\", \"RESPIRATORY EMERGENCY\", \"CARDIAC EMERGENCY\", \"FALL VICTIM\", \"ROAD OBSTRUCTION\", \"SUBJECT IN PAIN\", \"HEAD INJURY\", \"UNKNOWN MEDICAL EMERGENCY\", \"SYNCOPAL EPISODE\", \"SEIZURES\", \"FIRE INVESTIGATION\", \"GENERAL WEAKNESS\", \"ABDOMINAL PAINS\", \"ALTERED MENTAL STATUS\", \"MEDICAL ALERT ALARM\", \"HEMORRHAGING\", \"CVA/STROKE\", \"OVERDOSE\", \"NAUSEA/VOMITING\", \"UNCONSCIOUS SUBJECT\", \"VEHICLE FIRE\", \"HAZARDOUS ROAD CONDITIONS\", \"GAS\", \"BUILDING FIRE\", \"DIABETIC EMERGENCY\", \"DIZZINESS\", \"BACK PAINS/INJURY\", \"FIRE SPECIAL SERVICE\", \"UNRESPONSIVE SUBJECT\", \"ASSAULT VICTIM\", \"CARBON MONOXIDE DETECTOR\", \"ELECTRICAL FIRE OUTSIDE\", \"FRACTURE\", \"WOODS/FIELD FIRE\", \"CARDIAC ARREST\", \"LACERATIONS\", \"FEVER\", \"ALLERGIC REACTION\", \"RESCUE\", \"UNKNOWN TYPE FIRE\", \"DEHYDRATION\", \"TRASH/DUMPSTER FIRE\", \"FIRE POLICE NEEDED\", \"APPLIANCE FIRE\", \"CHOKING\", \"MATERNITY\", \"VEHICLE LEAKING FUEL\", \"DEBRIS/FLUIDS ON HIGHWAY\", \"EMS SPECIAL SERVICE\", \"S/B AT HELICOPTER LANDING\", \"BURN VICTIM\", \"ANIMAL BITE\", \"HEAT EXHAUSTION\", \"SHOOTING\", \"EYE INJURY\", \"POISONING\", \"STABBING\", \"TRANSFERRED CALL\", \"PUMP DETAIL\", \"AMPUTATION\", \"HAZARDOUS MATERIALS INCIDENT\", \"TRAIN CRASH\", \"DROWNING\", \"INDUSTRIAL ACCIDENT\", \"SUSPICIOUS\", \"POLICE INFORMATION\", \"PLANE CRASH\", \"ELECTROCUTION\", \"WARRANT SERVICE\", \"ACTIVE SHOOTER\", \"BOMB DEVICE FOUND\"], \"y\": [3935.0, 1.0, 14.0, 5112.0, 5012.0, 4863.0, \"\", 2687.0, 2631.0, 1873.0, 1717.0, 1630.0, 18.0, 1464.0, 1436.0, 1386.0, 1342.0, 1259.0, 1202.0, 1191.0, 1131.0, 1115.0, 30.0, \"\", 41.0, 201.0, 836.0, 799.0, 739.0, 55.0, 694.0, 657.0, 82.0, \"\", 622.0, 7.0, 469.0, 457.0, 441.0, 438.0, 78.0, 3.0, 283.0, \"\", \"\", 11.0, 191.0, 182.0, \"\", 2.0, 130.0, 12.0, 47.0, 83.0, 78.0, 39.0, 36.0, 36.0, 32.0, 7.0, \"\", 14.0, 6.0, 3.0, 4.0, 3.0, 2.0, \"\", 1.0, 2.0, 2.0, 2.0, 1.0], \"type\": \"bar\", \"uid\": \"07a097e0-e3c9-4627-9733-f9b2dbe669fe\"}, {\"marker\": {\"color\": \"rgba(55, 128, 191, 0.6)\", \"line\": {\"color\": \"rgba(55, 128, 191, 1.0)\", \"width\": 1}}, \"name\": \"Fire\", \"orientation\": \"v\", \"text\": \"\", \"x\": [\"VEHICLE ACCIDENT\", \"DISABLED VEHICLE\", \"FIRE ALARM\", \"RESPIRATORY EMERGENCY\", \"CARDIAC EMERGENCY\", \"FALL VICTIM\", \"ROAD OBSTRUCTION\", \"SUBJECT IN PAIN\", \"HEAD INJURY\", \"UNKNOWN MEDICAL EMERGENCY\", \"SYNCOPAL EPISODE\", \"SEIZURES\", \"FIRE INVESTIGATION\", \"GENERAL WEAKNESS\", \"ABDOMINAL PAINS\", \"ALTERED MENTAL STATUS\", \"MEDICAL ALERT ALARM\", \"HEMORRHAGING\", \"CVA/STROKE\", \"OVERDOSE\", \"NAUSEA/VOMITING\", \"UNCONSCIOUS SUBJECT\", \"VEHICLE FIRE\", \"HAZARDOUS ROAD CONDITIONS\", \"GAS\", \"BUILDING FIRE\", \"DIABETIC EMERGENCY\", \"DIZZINESS\", \"BACK PAINS/INJURY\", \"FIRE SPECIAL SERVICE\", \"UNRESPONSIVE SUBJECT\", \"ASSAULT VICTIM\", \"CARBON MONOXIDE DETECTOR\", \"ELECTRICAL FIRE OUTSIDE\", \"FRACTURE\", \"WOODS/FIELD FIRE\", \"CARDIAC ARREST\", \"LACERATIONS\", \"FEVER\", \"ALLERGIC REACTION\", \"RESCUE\", \"UNKNOWN TYPE FIRE\", \"DEHYDRATION\", \"TRASH/DUMPSTER FIRE\", \"FIRE POLICE NEEDED\", \"APPLIANCE FIRE\", \"CHOKING\", \"MATERNITY\", \"VEHICLE LEAKING FUEL\", \"DEBRIS/FLUIDS ON HIGHWAY\", \"EMS SPECIAL SERVICE\", \"S/B AT HELICOPTER LANDING\", \"BURN VICTIM\", \"ANIMAL BITE\", \"HEAT EXHAUSTION\", \"SHOOTING\", \"EYE INJURY\", \"POISONING\", \"STABBING\", \"TRANSFERRED CALL\", \"PUMP DETAIL\", \"AMPUTATION\", \"HAZARDOUS MATERIALS INCIDENT\", \"TRAIN CRASH\", \"DROWNING\", \"INDUSTRIAL ACCIDENT\", \"SUSPICIOUS\", \"POLICE INFORMATION\", \"PLANE CRASH\", \"ELECTROCUTION\", \"WARRANT SERVICE\", \"ACTIVE SHOOTER\", \"BOMB DEVICE FOUND\"], \"y\": [1638.0, \"\", 5496.0, \"\", \"\", \"\", \"\", \"\", \"\", 1.0, 1.0, \"\", 1460.0, \"\", \"\", \"\", 2.0, \"\", \"\", \"\", \"\", 1.0, 516.0, \"\", 1028.0, 807.0, 1.0, \"\", \"\", 666.0, \"\", \"\", 575.0, 622.0, \"\", 514.0, 42.0, \"\", \"\", \"\", 251.0, 322.0, \"\", 229.0, 215.0, 182.0, \"\", \"\", 73.0, 72.0, 2.0, 104.0, 39.0, \"\", \"\", \"\", \"\", \"\", \"\", 23.0, 25.0, \"\", 5.0, 5.0, \"\", \"\", \"\", 2.0, 1.0, \"\", \"\", \"\", \"\"], \"type\": \"bar\", \"uid\": \"5205a785-bd17-4424-87b8-10799fe7ed28\"}, {\"marker\": {\"color\": \"rgba(50, 171, 96, 0.6)\", \"line\": {\"color\": \"rgba(50, 171, 96, 1.0)\", \"width\": 1}}, \"name\": \"Traffic\", \"orientation\": \"v\", \"text\": \"\", \"x\": [\"VEHICLE ACCIDENT\", \"DISABLED VEHICLE\", \"FIRE ALARM\", \"RESPIRATORY EMERGENCY\", \"CARDIAC EMERGENCY\", \"FALL VICTIM\", \"ROAD OBSTRUCTION\", \"SUBJECT IN PAIN\", \"HEAD INJURY\", \"UNKNOWN MEDICAL EMERGENCY\", \"SYNCOPAL EPISODE\", \"SEIZURES\", \"FIRE INVESTIGATION\", \"GENERAL WEAKNESS\", \"ABDOMINAL PAINS\", \"ALTERED MENTAL STATUS\", \"MEDICAL ALERT ALARM\", \"HEMORRHAGING\", \"CVA/STROKE\", \"OVERDOSE\", \"NAUSEA/VOMITING\", \"UNCONSCIOUS SUBJECT\", \"VEHICLE FIRE\", \"HAZARDOUS ROAD CONDITIONS\", \"GAS\", \"BUILDING FIRE\", \"DIABETIC EMERGENCY\", \"DIZZINESS\", \"BACK PAINS/INJURY\", \"FIRE SPECIAL SERVICE\", \"UNRESPONSIVE SUBJECT\", \"ASSAULT VICTIM\", \"CARBON MONOXIDE DETECTOR\", \"ELECTRICAL FIRE OUTSIDE\", \"FRACTURE\", \"WOODS/FIELD FIRE\", \"CARDIAC ARREST\", \"LACERATIONS\", \"FEVER\", \"ALLERGIC REACTION\", \"RESCUE\", \"UNKNOWN TYPE FIRE\", \"DEHYDRATION\", \"TRASH/DUMPSTER FIRE\", \"FIRE POLICE NEEDED\", \"APPLIANCE FIRE\", \"CHOKING\", \"MATERNITY\", \"VEHICLE LEAKING FUEL\", \"DEBRIS/FLUIDS ON HIGHWAY\", \"EMS SPECIAL SERVICE\", \"S/B AT HELICOPTER LANDING\", \"BURN VICTIM\", \"ANIMAL BITE\", \"HEAT EXHAUSTION\", \"SHOOTING\", \"EYE INJURY\", \"POISONING\", \"STABBING\", \"TRANSFERRED CALL\", \"PUMP DETAIL\", \"AMPUTATION\", \"HAZARDOUS MATERIALS INCIDENT\", \"TRAIN CRASH\", \"DROWNING\", \"INDUSTRIAL ACCIDENT\", \"SUSPICIOUS\", \"POLICE INFORMATION\", \"PLANE CRASH\", \"ELECTROCUTION\", \"WARRANT SERVICE\", \"ACTIVE SHOOTER\", \"BOMB DEVICE FOUND\"], \"y\": [23066.0, 7702.0, \"\", \"\", \"\", \"\", 3144.0, \"\", \"\", \"\", \"\", \"\", \"\", \"\", \"\", \"\", \"\", \"\", \"\", \"\", \"\", \"\", 553.0, 1086.0, \"\", \"\", \"\", \"\", \"\", \"\", \"\", \"\", \"\", \"\", \"\", \"\", \"\", \"\", \"\", \"\", \"\", \"\", \"\", \"\", \"\", \"\", \"\", \"\", 77.0, 67.0, \"\", \"\", \"\", \"\", \"\", \"\", \"\", \"\", \"\", \"\", \"\", \"\", \"\", \"\", \"\", \"\", \"\", \"\", \"\", \"\", \"\", \"\", \"\"], \"type\": \"bar\", \"uid\": \"010207e5-03b5-4796-be5d-c84d32f13f1b\"}], {\"bargroupgap\": 0.01, \"barmode\": \"stack\", \"height\": 500, \"margin\": {\"b\": 100}, \"title\": {\"text\": \"911 Calls - Call Issue on Call Reason\", \"font\": {\"size\": 12}}, \"width\": 900, \"xaxis\": {\"tickfont\": {\"size\": 6.5}, \"tickformat\": \" \", \"title\": {\"text\": \"Issue\"}, \"type\": \"category\"}, \"yaxis\": {\"title\": {\"text\": \"Count\"}}}, {\"showLink\": true, \"linkText\": \"Export to plot.ly\", \"plotlyServerURL\": \"https://plot.ly\"})});</script>"
      ]
     },
     "metadata": {},
     "output_type": "display_data"
    }
   ],
   "source": [
    "layout={'title':'911 Calls - Call Issue on Call Reason',\n",
    "        'margin':{'b':100},\n",
    "        'bargroupgap':0.01,'width':900,'height':500,'titlefont':{'size':12},\n",
    "        'xaxis':{'tickformat':' ','type':'category','title':'Issue','tickfont':{'size':6.5}},\n",
    "        'yaxis':{'title':'Count'},'barmode':'stack'}\n",
    "Issues.iplot(kind='bar',layout=layout)"
   ]
  },
  {
   "cell_type": "code",
   "execution_count": 19,
   "metadata": {},
   "outputs": [
    {
     "data": {
      "application/vnd.plotly.v1+json": {
       "config": {
        "linkText": "Export to plot.ly",
        "plotlyServerURL": "https://plot.ly",
        "showLink": true
       },
       "data": [
        {
         "marker": {
          "color": "rgba(255, 153, 51, 0.6)",
          "line": {
           "color": "rgba(255, 153, 51, 1.0)",
           "width": 1
          }
         },
         "name": "EMS",
         "orientation": "v",
         "text": "",
         "type": "bar",
         "uid": "57d7105e-2f0d-4a02-80ec-5280a5a38867",
         "x": [
          "Reason"
         ],
         "y": [
          48877
         ]
        },
        {
         "marker": {
          "color": "rgba(55, 128, 191, 0.6)",
          "line": {
           "color": "rgba(55, 128, 191, 1.0)",
           "width": 1
          }
         },
         "name": "Traffic",
         "orientation": "v",
         "text": "",
         "type": "bar",
         "uid": "d25359cc-8fca-48ff-8abc-9e14c3512b5b",
         "x": [
          "Reason"
         ],
         "y": [
          35695
         ]
        },
        {
         "marker": {
          "color": "rgba(50, 171, 96, 0.6)",
          "line": {
           "color": "rgba(50, 171, 96, 1.0)",
           "width": 1
          }
         },
         "name": "Fire",
         "orientation": "v",
         "text": "",
         "type": "bar",
         "uid": "06054b64-9e73-412c-a79d-d5268f6b127f",
         "x": [
          "Reason"
         ],
         "y": [
          14920
         ]
        }
       ],
       "layout": {
        "bargroupgap": 0.1,
        "height": 500,
        "title": {
         "font": {
          "size": 12
         },
         "text": "911 Calls - Total on Call Reason"
        },
        "width": 500,
        "yaxis": {
         "title": {
          "text": "Count"
         }
        }
       }
      },
      "text/html": [
       "<div id=\"79e1034d-f0a1-4f92-94af-f45917c021bb\" style=\"height: 500px; width: 500px;\" class=\"plotly-graph-div\"></div><script type=\"text/javascript\">require([\"plotly\"], function(Plotly) { window.PLOTLYENV=window.PLOTLYENV || {};window.PLOTLYENV.BASE_URL=\"https://plot.ly\";Plotly.newPlot(\"79e1034d-f0a1-4f92-94af-f45917c021bb\", [{\"marker\": {\"color\": \"rgba(255, 153, 51, 0.6)\", \"line\": {\"color\": \"rgba(255, 153, 51, 1.0)\", \"width\": 1}}, \"name\": \"EMS\", \"orientation\": \"v\", \"text\": \"\", \"x\": [\"Reason\"], \"y\": [48877], \"type\": \"bar\", \"uid\": \"de6fcdb6-5ec1-46f3-a9f2-95a46e7628e0\"}, {\"marker\": {\"color\": \"rgba(55, 128, 191, 0.6)\", \"line\": {\"color\": \"rgba(55, 128, 191, 1.0)\", \"width\": 1}}, \"name\": \"Traffic\", \"orientation\": \"v\", \"text\": \"\", \"x\": [\"Reason\"], \"y\": [35695], \"type\": \"bar\", \"uid\": \"036c1ee5-1a2c-4829-af70-62aae03bdf00\"}, {\"marker\": {\"color\": \"rgba(50, 171, 96, 0.6)\", \"line\": {\"color\": \"rgba(50, 171, 96, 1.0)\", \"width\": 1}}, \"name\": \"Fire\", \"orientation\": \"v\", \"text\": \"\", \"x\": [\"Reason\"], \"y\": [14920], \"type\": \"bar\", \"uid\": \"62fdbba7-220a-477e-a95b-0a9baf06500e\"}], {\"bargroupgap\": 0.1, \"height\": 500, \"title\": {\"text\": \"911 Calls - Total on Call Reason\", \"font\": {\"size\": 12}}, \"width\": 500, \"yaxis\": {\"title\": {\"text\": \"Count\"}}}, {\"showLink\": true, \"linkText\": \"Export to plot.ly\", \"plotlyServerURL\": \"https://plot.ly\"})});</script>"
      ],
      "text/vnd.plotly.v1+html": [
       "<div id=\"79e1034d-f0a1-4f92-94af-f45917c021bb\" style=\"height: 500px; width: 500px;\" class=\"plotly-graph-div\"></div><script type=\"text/javascript\">require([\"plotly\"], function(Plotly) { window.PLOTLYENV=window.PLOTLYENV || {};window.PLOTLYENV.BASE_URL=\"https://plot.ly\";Plotly.newPlot(\"79e1034d-f0a1-4f92-94af-f45917c021bb\", [{\"marker\": {\"color\": \"rgba(255, 153, 51, 0.6)\", \"line\": {\"color\": \"rgba(255, 153, 51, 1.0)\", \"width\": 1}}, \"name\": \"EMS\", \"orientation\": \"v\", \"text\": \"\", \"x\": [\"Reason\"], \"y\": [48877], \"type\": \"bar\", \"uid\": \"de6fcdb6-5ec1-46f3-a9f2-95a46e7628e0\"}, {\"marker\": {\"color\": \"rgba(55, 128, 191, 0.6)\", \"line\": {\"color\": \"rgba(55, 128, 191, 1.0)\", \"width\": 1}}, \"name\": \"Traffic\", \"orientation\": \"v\", \"text\": \"\", \"x\": [\"Reason\"], \"y\": [35695], \"type\": \"bar\", \"uid\": \"036c1ee5-1a2c-4829-af70-62aae03bdf00\"}, {\"marker\": {\"color\": \"rgba(50, 171, 96, 0.6)\", \"line\": {\"color\": \"rgba(50, 171, 96, 1.0)\", \"width\": 1}}, \"name\": \"Fire\", \"orientation\": \"v\", \"text\": \"\", \"x\": [\"Reason\"], \"y\": [14920], \"type\": \"bar\", \"uid\": \"62fdbba7-220a-477e-a95b-0a9baf06500e\"}], {\"bargroupgap\": 0.1, \"height\": 500, \"title\": {\"text\": \"911 Calls - Total on Call Reason\", \"font\": {\"size\": 12}}, \"width\": 500, \"yaxis\": {\"title\": {\"text\": \"Count\"}}}, {\"showLink\": true, \"linkText\": \"Export to plot.ly\", \"plotlyServerURL\": \"https://plot.ly\"})});</script>"
      ]
     },
     "metadata": {},
     "output_type": "display_data"
    }
   ],
   "source": [
    "layout={'title':'911 Calls - Total on Call Reason',\n",
    "        'bargroupgap':0.1,\n",
    "        'width':500,'height':500,\n",
    "        'titlefont':{'size':12},\n",
    "        'yaxis':{'title':'Count'}}\n",
    "df1['Reason'].value_counts().to_frame().T.iplot(kind='bar',layout=layout)"
   ]
  },
  {
   "cell_type": "code",
   "execution_count": 20,
   "metadata": {},
   "outputs": [
    {
     "data": {
      "application/vnd.plotly.v1+json": {
       "config": {
        "linkText": "Export to plot.ly",
        "plotlyServerURL": "https://plot.ly",
        "showLink": true
       },
       "data": [
        {
         "marker": {
          "color": "rgba(255, 153, 51, 0.6)",
          "line": {
           "color": "rgba(255, 153, 51, 1.0)",
           "width": 1
          }
         },
         "name": "EMS",
         "orientation": "v",
         "text": "",
         "type": "bar",
         "uid": "1d344d09-412b-4718-9388-0151f5c3679d",
         "x": [
          "Mon",
          "Tue",
          "Wed",
          "Thu",
          "Fri",
          "Sat",
          "Sun"
         ],
         "y": [
          7240,
          7222,
          6966,
          6993,
          7315,
          6685,
          6456
         ]
        },
        {
         "marker": {
          "color": "rgba(55, 128, 191, 0.6)",
          "line": {
           "color": "rgba(55, 128, 191, 1.0)",
           "width": 1
          }
         },
         "name": "Fire",
         "orientation": "v",
         "text": "",
         "type": "bar",
         "uid": "ed3f8a7a-c81c-46ed-a35d-29e5699d29c7",
         "x": [
          "Mon",
          "Tue",
          "Wed",
          "Thu",
          "Fri",
          "Sat",
          "Sun"
         ],
         "y": [
          2204,
          2121,
          2227,
          2136,
          2088,
          2068,
          2076
         ]
        },
        {
         "marker": {
          "color": "rgba(50, 171, 96, 0.6)",
          "line": {
           "color": "rgba(50, 171, 96, 1.0)",
           "width": 1
          }
         },
         "name": "Traffic",
         "orientation": "v",
         "text": "",
         "type": "bar",
         "uid": "872d7019-4396-4fa9-a66c-6932d9b85f31",
         "x": [
          "Mon",
          "Tue",
          "Wed",
          "Thu",
          "Fri",
          "Sat",
          "Sun"
         ],
         "y": [
          5236,
          5807,
          5686,
          5349,
          5430,
          4583,
          3604
         ]
        }
       ],
       "layout": {
        "bargroupgap": 0.1,
        "height": 500,
        "title": {
         "font": {
          "size": 12
         },
         "text": "911 Calls - Total Daily on Call Reason"
        },
        "width": 500,
        "xaxis": {
         "title": {
          "text": "Day of Week"
         }
        },
        "yaxis": {
         "title": {
          "text": "Count"
         }
        }
       }
      },
      "text/html": [
       "<div id=\"673cf6fb-1442-44ad-90db-78aee0ea1da2\" style=\"height: 500px; width: 500px;\" class=\"plotly-graph-div\"></div><script type=\"text/javascript\">require([\"plotly\"], function(Plotly) { window.PLOTLYENV=window.PLOTLYENV || {};window.PLOTLYENV.BASE_URL=\"https://plot.ly\";Plotly.newPlot(\"673cf6fb-1442-44ad-90db-78aee0ea1da2\", [{\"marker\": {\"color\": \"rgba(255, 153, 51, 0.6)\", \"line\": {\"color\": \"rgba(255, 153, 51, 1.0)\", \"width\": 1}}, \"name\": \"EMS\", \"orientation\": \"v\", \"text\": \"\", \"x\": [\"Mon\", \"Tue\", \"Wed\", \"Thu\", \"Fri\", \"Sat\", \"Sun\"], \"y\": [7240, 7222, 6966, 6993, 7315, 6685, 6456], \"type\": \"bar\", \"uid\": \"00ee8da2-7a51-4263-a937-6d857205828e\"}, {\"marker\": {\"color\": \"rgba(55, 128, 191, 0.6)\", \"line\": {\"color\": \"rgba(55, 128, 191, 1.0)\", \"width\": 1}}, \"name\": \"Fire\", \"orientation\": \"v\", \"text\": \"\", \"x\": [\"Mon\", \"Tue\", \"Wed\", \"Thu\", \"Fri\", \"Sat\", \"Sun\"], \"y\": [2204, 2121, 2227, 2136, 2088, 2068, 2076], \"type\": \"bar\", \"uid\": \"916bbecb-1f21-416f-9f90-92ee5451c7a5\"}, {\"marker\": {\"color\": \"rgba(50, 171, 96, 0.6)\", \"line\": {\"color\": \"rgba(50, 171, 96, 1.0)\", \"width\": 1}}, \"name\": \"Traffic\", \"orientation\": \"v\", \"text\": \"\", \"x\": [\"Mon\", \"Tue\", \"Wed\", \"Thu\", \"Fri\", \"Sat\", \"Sun\"], \"y\": [5236, 5807, 5686, 5349, 5430, 4583, 3604], \"type\": \"bar\", \"uid\": \"f868ee89-733e-4396-8796-447cf43f5d47\"}], {\"bargroupgap\": 0.1, \"height\": 500, \"title\": {\"text\": \"911 Calls - Total Daily on Call Reason\", \"font\": {\"size\": 12}}, \"width\": 500, \"xaxis\": {\"title\": {\"text\": \"Day of Week\"}}, \"yaxis\": {\"title\": {\"text\": \"Count\"}}}, {\"showLink\": true, \"linkText\": \"Export to plot.ly\", \"plotlyServerURL\": \"https://plot.ly\"})});</script>"
      ],
      "text/vnd.plotly.v1+html": [
       "<div id=\"673cf6fb-1442-44ad-90db-78aee0ea1da2\" style=\"height: 500px; width: 500px;\" class=\"plotly-graph-div\"></div><script type=\"text/javascript\">require([\"plotly\"], function(Plotly) { window.PLOTLYENV=window.PLOTLYENV || {};window.PLOTLYENV.BASE_URL=\"https://plot.ly\";Plotly.newPlot(\"673cf6fb-1442-44ad-90db-78aee0ea1da2\", [{\"marker\": {\"color\": \"rgba(255, 153, 51, 0.6)\", \"line\": {\"color\": \"rgba(255, 153, 51, 1.0)\", \"width\": 1}}, \"name\": \"EMS\", \"orientation\": \"v\", \"text\": \"\", \"x\": [\"Mon\", \"Tue\", \"Wed\", \"Thu\", \"Fri\", \"Sat\", \"Sun\"], \"y\": [7240, 7222, 6966, 6993, 7315, 6685, 6456], \"type\": \"bar\", \"uid\": \"00ee8da2-7a51-4263-a937-6d857205828e\"}, {\"marker\": {\"color\": \"rgba(55, 128, 191, 0.6)\", \"line\": {\"color\": \"rgba(55, 128, 191, 1.0)\", \"width\": 1}}, \"name\": \"Fire\", \"orientation\": \"v\", \"text\": \"\", \"x\": [\"Mon\", \"Tue\", \"Wed\", \"Thu\", \"Fri\", \"Sat\", \"Sun\"], \"y\": [2204, 2121, 2227, 2136, 2088, 2068, 2076], \"type\": \"bar\", \"uid\": \"916bbecb-1f21-416f-9f90-92ee5451c7a5\"}, {\"marker\": {\"color\": \"rgba(50, 171, 96, 0.6)\", \"line\": {\"color\": \"rgba(50, 171, 96, 1.0)\", \"width\": 1}}, \"name\": \"Traffic\", \"orientation\": \"v\", \"text\": \"\", \"x\": [\"Mon\", \"Tue\", \"Wed\", \"Thu\", \"Fri\", \"Sat\", \"Sun\"], \"y\": [5236, 5807, 5686, 5349, 5430, 4583, 3604], \"type\": \"bar\", \"uid\": \"f868ee89-733e-4396-8796-447cf43f5d47\"}], {\"bargroupgap\": 0.1, \"height\": 500, \"title\": {\"text\": \"911 Calls - Total Daily on Call Reason\", \"font\": {\"size\": 12}}, \"width\": 500, \"xaxis\": {\"title\": {\"text\": \"Day of Week\"}}, \"yaxis\": {\"title\": {\"text\": \"Count\"}}}, {\"showLink\": true, \"linkText\": \"Export to plot.ly\", \"plotlyServerURL\": \"https://plot.ly\"})});</script>"
      ]
     },
     "metadata": {},
     "output_type": "display_data"
    }
   ],
   "source": [
    "Days='Mon Tue Wed Thu Fri Sat Sun'.split()\n",
    "layout={'title':'911 Calls - Total Daily on Call Reason',\n",
    "        'bargroupgap':0.1,'width':500,'height':500,\n",
    "        'titlefont':{'size':12},\n",
    "        'xaxis':{'title':'Day of Week'},\n",
    "        'yaxis':{'title':'Count'}}\n",
    "df1.groupby(['Day of Week','Reason']).count()['Issue'].unstack().reindex(Days).iplot(kind='bar',layout=layout)"
   ]
  },
  {
   "cell_type": "code",
   "execution_count": 21,
   "metadata": {},
   "outputs": [
    {
     "data": {
      "application/vnd.plotly.v1+json": {
       "config": {
        "linkText": "Export to plot.ly",
        "plotlyServerURL": "https://plot.ly",
        "showLink": true
       },
       "data": [
        {
         "marker": {
          "color": "rgba(255, 153, 51, 0.6)",
          "line": {
           "color": "rgba(255, 153, 51, 1.0)",
           "width": 1
          }
         },
         "name": "EMS",
         "orientation": "v",
         "text": "",
         "type": "bar",
         "uid": "d10ae47b-7bec-419f-94d6-5f5ae6fe0246",
         "x": [
          1,
          2,
          3,
          4,
          5,
          6,
          7,
          8,
          12
         ],
         "y": [
          6063,
          5413,
          5832,
          5680,
          5734,
          5720,
          6029,
          4508,
          3898
         ]
        },
        {
         "marker": {
          "color": "rgba(55, 128, 191, 0.6)",
          "line": {
           "color": "rgba(55, 128, 191, 1.0)",
           "width": 1
          }
         },
         "name": "Fire",
         "orientation": "v",
         "text": "",
         "type": "bar",
         "uid": "dcbb2031-b885-4664-928d-6fedb42df654",
         "x": [
          1,
          2,
          3,
          4,
          5,
          6,
          7,
          8,
          12
         ],
         "y": [
          1905,
          1869,
          1590,
          1717,
          1573,
          1796,
          1901,
          1473,
          1096
         ]
        },
        {
         "marker": {
          "color": "rgba(50, 171, 96, 0.6)",
          "line": {
           "color": "rgba(50, 171, 96, 1.0)",
           "width": 1
          }
         },
         "name": "Traffic",
         "orientation": "v",
         "text": "",
         "type": "bar",
         "uid": "1b777054-e392-4cd5-a559-02c97d9afe03",
         "x": [
          1,
          2,
          3,
          4,
          5,
          6,
          7,
          8,
          12
         ],
         "y": [
          5237,
          4185,
          3679,
          3929,
          4116,
          4270,
          4207,
          3097,
          2975
         ]
        }
       ],
       "layout": {
        "bargroupgap": 0.1,
        "height": 500,
        "title": {
         "font": {
          "size": 12
         },
         "text": "911 Calls - Total Monthly on Call Reason"
        },
        "width": 500,
        "xaxis": {
         "tickformat": " ",
         "tickmode": "linear",
         "title": {
          "text": "Month"
         },
         "type": "category"
        },
        "yaxis": {
         "title": {
          "text": "Count"
         }
        }
       }
      },
      "text/html": [
       "<div id=\"9af3e6e6-2f57-4c54-aa32-588f63fc0241\" style=\"height: 500px; width: 500px;\" class=\"plotly-graph-div\"></div><script type=\"text/javascript\">require([\"plotly\"], function(Plotly) { window.PLOTLYENV=window.PLOTLYENV || {};window.PLOTLYENV.BASE_URL=\"https://plot.ly\";Plotly.newPlot(\"9af3e6e6-2f57-4c54-aa32-588f63fc0241\", [{\"marker\": {\"color\": \"rgba(255, 153, 51, 0.6)\", \"line\": {\"color\": \"rgba(255, 153, 51, 1.0)\", \"width\": 1}}, \"name\": \"EMS\", \"orientation\": \"v\", \"text\": \"\", \"x\": [1, 2, 3, 4, 5, 6, 7, 8, 12], \"y\": [6063, 5413, 5832, 5680, 5734, 5720, 6029, 4508, 3898], \"type\": \"bar\", \"uid\": \"d8fd657f-a1f7-4701-93fe-6ca22f0b327d\"}, {\"marker\": {\"color\": \"rgba(55, 128, 191, 0.6)\", \"line\": {\"color\": \"rgba(55, 128, 191, 1.0)\", \"width\": 1}}, \"name\": \"Fire\", \"orientation\": \"v\", \"text\": \"\", \"x\": [1, 2, 3, 4, 5, 6, 7, 8, 12], \"y\": [1905, 1869, 1590, 1717, 1573, 1796, 1901, 1473, 1096], \"type\": \"bar\", \"uid\": \"69dbb1dc-972b-40c7-8f89-3d7de52fa1f6\"}, {\"marker\": {\"color\": \"rgba(50, 171, 96, 0.6)\", \"line\": {\"color\": \"rgba(50, 171, 96, 1.0)\", \"width\": 1}}, \"name\": \"Traffic\", \"orientation\": \"v\", \"text\": \"\", \"x\": [1, 2, 3, 4, 5, 6, 7, 8, 12], \"y\": [5237, 4185, 3679, 3929, 4116, 4270, 4207, 3097, 2975], \"type\": \"bar\", \"uid\": \"8b51d416-da08-450d-8df8-f1683229b2ee\"}], {\"bargroupgap\": 0.1, \"height\": 500, \"title\": {\"text\": \"911 Calls - Total Monthly on Call Reason\", \"font\": {\"size\": 12}}, \"width\": 500, \"xaxis\": {\"tickformat\": \" \", \"tickmode\": \"linear\", \"title\": {\"text\": \"Month\"}, \"type\": \"category\"}, \"yaxis\": {\"title\": {\"text\": \"Count\"}}}, {\"showLink\": true, \"linkText\": \"Export to plot.ly\", \"plotlyServerURL\": \"https://plot.ly\"})});</script>"
      ],
      "text/vnd.plotly.v1+html": [
       "<div id=\"9af3e6e6-2f57-4c54-aa32-588f63fc0241\" style=\"height: 500px; width: 500px;\" class=\"plotly-graph-div\"></div><script type=\"text/javascript\">require([\"plotly\"], function(Plotly) { window.PLOTLYENV=window.PLOTLYENV || {};window.PLOTLYENV.BASE_URL=\"https://plot.ly\";Plotly.newPlot(\"9af3e6e6-2f57-4c54-aa32-588f63fc0241\", [{\"marker\": {\"color\": \"rgba(255, 153, 51, 0.6)\", \"line\": {\"color\": \"rgba(255, 153, 51, 1.0)\", \"width\": 1}}, \"name\": \"EMS\", \"orientation\": \"v\", \"text\": \"\", \"x\": [1, 2, 3, 4, 5, 6, 7, 8, 12], \"y\": [6063, 5413, 5832, 5680, 5734, 5720, 6029, 4508, 3898], \"type\": \"bar\", \"uid\": \"d8fd657f-a1f7-4701-93fe-6ca22f0b327d\"}, {\"marker\": {\"color\": \"rgba(55, 128, 191, 0.6)\", \"line\": {\"color\": \"rgba(55, 128, 191, 1.0)\", \"width\": 1}}, \"name\": \"Fire\", \"orientation\": \"v\", \"text\": \"\", \"x\": [1, 2, 3, 4, 5, 6, 7, 8, 12], \"y\": [1905, 1869, 1590, 1717, 1573, 1796, 1901, 1473, 1096], \"type\": \"bar\", \"uid\": \"69dbb1dc-972b-40c7-8f89-3d7de52fa1f6\"}, {\"marker\": {\"color\": \"rgba(50, 171, 96, 0.6)\", \"line\": {\"color\": \"rgba(50, 171, 96, 1.0)\", \"width\": 1}}, \"name\": \"Traffic\", \"orientation\": \"v\", \"text\": \"\", \"x\": [1, 2, 3, 4, 5, 6, 7, 8, 12], \"y\": [5237, 4185, 3679, 3929, 4116, 4270, 4207, 3097, 2975], \"type\": \"bar\", \"uid\": \"8b51d416-da08-450d-8df8-f1683229b2ee\"}], {\"bargroupgap\": 0.1, \"height\": 500, \"title\": {\"text\": \"911 Calls - Total Monthly on Call Reason\", \"font\": {\"size\": 12}}, \"width\": 500, \"xaxis\": {\"tickformat\": \" \", \"tickmode\": \"linear\", \"title\": {\"text\": \"Month\"}, \"type\": \"category\"}, \"yaxis\": {\"title\": {\"text\": \"Count\"}}}, {\"showLink\": true, \"linkText\": \"Export to plot.ly\", \"plotlyServerURL\": \"https://plot.ly\"})});</script>"
      ]
     },
     "metadata": {},
     "output_type": "display_data"
    }
   ],
   "source": [
    "layout={'title':'911 Calls - Total Monthly on Call Reason',\n",
    "        'bargroupgap':0.1,'width':500,'height':500,\n",
    "        'yaxis':{'title':'Count'},'titlefont':{'size':12},\n",
    "        'xaxis':{'title':'Month','tickformat':' ','type':'category','tickmode':'linear'}}\n",
    "df1.groupby(['Month','Reason']).count()['Issue'].unstack().iplot(kind='bar',layout=layout)"
   ]
  },
  {
   "cell_type": "code",
   "execution_count": 22,
   "metadata": {},
   "outputs": [],
   "source": [
    "byMonth=df1.groupby('Month').count()['Issue'].to_frame()\n",
    "byMonth.rename(columns={'Issue':'Count'},inplace=True)\n",
    "Range=byMonth.index\n",
    "trend=np.polyfit(Range, byMonth['Count'], 1)\n",
    "lg=trend[1]+trend[0]*Range\n",
    "LG=f'911 Calls - Total Monthly Trend:   {\"%.2f\" % trend[0]}*x + {\"%.2f\" % trend[1]}'\n",
    "byMonth['Fit']= lg"
   ]
  },
  {
   "cell_type": "code",
   "execution_count": 23,
   "metadata": {},
   "outputs": [
    {
     "data": {
      "application/vnd.plotly.v1+json": {
       "config": {
        "linkText": "Export to plot.ly",
        "plotlyServerURL": "https://plot.ly",
        "showLink": true
       },
       "data": [
        {
         "line": {
          "color": "rgba(255, 153, 51, 1.0)",
          "dash": "solid",
          "shape": "linear",
          "width": 1.3
         },
         "marker": {
          "size": 12,
          "symbol": "circle"
         },
         "mode": "markers",
         "name": "Count",
         "text": "",
         "type": "scatter",
         "uid": "683a8803-28fe-44df-8f40-01a65a214753",
         "x": [
          1,
          2,
          3,
          4,
          5,
          6,
          7,
          8,
          12
         ],
         "y": [
          13205,
          11467,
          11101,
          11326,
          11423,
          11786,
          12137,
          9078,
          7969
         ]
        },
        {
         "line": {
          "color": "rgba(55, 128, 191, 1.0)",
          "dash": "solid",
          "shape": "linear",
          "width": 1.3
         },
         "mode": "lines",
         "name": "Fit",
         "text": "",
         "type": "scatter",
         "uid": "2704f55c-796d-4621-a1d5-812e87e297b2",
         "x": [
          1,
          2,
          3,
          4,
          5,
          6,
          7,
          8,
          12
         ],
         "y": [
          12695.492753623193,
          12316.84057971015,
          11938.188405797107,
          11559.536231884063,
          11180.88405797102,
          10802.231884057976,
          10423.579710144932,
          10044.927536231888,
          8530.318840579714
         ]
        }
       ],
       "layout": {
        "height": 500,
        "title": {
         "font": {
          "size": 12
         },
         "text": "911 Calls - Total Monthly Trend:   -378.65*x + 13074.14"
        },
        "width": 900,
        "xaxis": {
         "tickmode": "linear",
         "title": {
          "text": "Month"
         }
        },
        "yaxis": {
         "title": {
          "text": "Count"
         }
        }
       }
      },
      "text/html": [
       "<div id=\"9c1658e0-d269-49ca-939f-7173a22758ca\" style=\"height: 500px; width: 900px;\" class=\"plotly-graph-div\"></div><script type=\"text/javascript\">require([\"plotly\"], function(Plotly) { window.PLOTLYENV=window.PLOTLYENV || {};window.PLOTLYENV.BASE_URL=\"https://plot.ly\";Plotly.newPlot(\"9c1658e0-d269-49ca-939f-7173a22758ca\", [{\"line\": {\"color\": \"rgba(255, 153, 51, 1.0)\", \"dash\": \"solid\", \"shape\": \"linear\", \"width\": 1.3}, \"marker\": {\"size\": 12, \"symbol\": \"circle\"}, \"mode\": \"markers\", \"name\": \"Count\", \"text\": \"\", \"x\": [1, 2, 3, 4, 5, 6, 7, 8, 12], \"y\": [13205, 11467, 11101, 11326, 11423, 11786, 12137, 9078, 7969], \"type\": \"scatter\", \"uid\": \"42e0df66-2709-490a-91e6-ec35b6735759\"}, {\"line\": {\"color\": \"rgba(55, 128, 191, 1.0)\", \"dash\": \"solid\", \"shape\": \"linear\", \"width\": 1.3}, \"mode\": \"lines\", \"name\": \"Fit\", \"text\": \"\", \"x\": [1, 2, 3, 4, 5, 6, 7, 8, 12], \"y\": [12695.492753623193, 12316.84057971015, 11938.188405797107, 11559.536231884063, 11180.88405797102, 10802.231884057976, 10423.579710144932, 10044.927536231888, 8530.318840579714], \"type\": \"scatter\", \"uid\": \"13963213-7193-453b-8acf-3717aa60c41d\"}], {\"height\": 500, \"title\": {\"text\": \"911 Calls - Total Monthly Trend:   -378.65*x + 13074.14\", \"font\": {\"size\": 12}}, \"width\": 900, \"xaxis\": {\"tickmode\": \"linear\", \"title\": {\"text\": \"Month\"}}, \"yaxis\": {\"title\": {\"text\": \"Count\"}}}, {\"showLink\": true, \"linkText\": \"Export to plot.ly\", \"plotlyServerURL\": \"https://plot.ly\"})});</script>"
      ],
      "text/vnd.plotly.v1+html": [
       "<div id=\"9c1658e0-d269-49ca-939f-7173a22758ca\" style=\"height: 500px; width: 900px;\" class=\"plotly-graph-div\"></div><script type=\"text/javascript\">require([\"plotly\"], function(Plotly) { window.PLOTLYENV=window.PLOTLYENV || {};window.PLOTLYENV.BASE_URL=\"https://plot.ly\";Plotly.newPlot(\"9c1658e0-d269-49ca-939f-7173a22758ca\", [{\"line\": {\"color\": \"rgba(255, 153, 51, 1.0)\", \"dash\": \"solid\", \"shape\": \"linear\", \"width\": 1.3}, \"marker\": {\"size\": 12, \"symbol\": \"circle\"}, \"mode\": \"markers\", \"name\": \"Count\", \"text\": \"\", \"x\": [1, 2, 3, 4, 5, 6, 7, 8, 12], \"y\": [13205, 11467, 11101, 11326, 11423, 11786, 12137, 9078, 7969], \"type\": \"scatter\", \"uid\": \"42e0df66-2709-490a-91e6-ec35b6735759\"}, {\"line\": {\"color\": \"rgba(55, 128, 191, 1.0)\", \"dash\": \"solid\", \"shape\": \"linear\", \"width\": 1.3}, \"mode\": \"lines\", \"name\": \"Fit\", \"text\": \"\", \"x\": [1, 2, 3, 4, 5, 6, 7, 8, 12], \"y\": [12695.492753623193, 12316.84057971015, 11938.188405797107, 11559.536231884063, 11180.88405797102, 10802.231884057976, 10423.579710144932, 10044.927536231888, 8530.318840579714], \"type\": \"scatter\", \"uid\": \"13963213-7193-453b-8acf-3717aa60c41d\"}], {\"height\": 500, \"title\": {\"text\": \"911 Calls - Total Monthly Trend:   -378.65*x + 13074.14\", \"font\": {\"size\": 12}}, \"width\": 900, \"xaxis\": {\"tickmode\": \"linear\", \"title\": {\"text\": \"Month\"}}, \"yaxis\": {\"title\": {\"text\": \"Count\"}}}, {\"showLink\": true, \"linkText\": \"Export to plot.ly\", \"plotlyServerURL\": \"https://plot.ly\"})});</script>"
      ]
     },
     "metadata": {},
     "output_type": "display_data"
    }
   ],
   "source": [
    "layout={'title':LG,'width':900,'height':500,\n",
    "        'xaxis':{'title':'Month','tickmode':'linear'},\n",
    "        'titlefont':{'size':12},'yaxis':{'title':'Count'}}\n",
    "byMonth.iplot(kind='scatter',mode = ['markers','lines'],layout=layout)"
   ]
  },
  {
   "cell_type": "code",
   "execution_count": 24,
   "metadata": {},
   "outputs": [],
   "source": [
    "dayHour = df1.groupby(by=['Day of Week','Hour']).count()['Reason'].unstack()\n",
    "Days='Mon Tue Wed Thu Fri Sat Sun'.split()\n",
    "dayHour=dayHour.reindex(Days)"
   ]
  },
  {
   "cell_type": "code",
   "execution_count": 25,
   "metadata": {},
   "outputs": [
    {
     "data": {
      "application/vnd.plotly.v1+json": {
       "config": {
        "linkText": "Export to plot.ly",
        "plotlyServerURL": "https://plot.ly",
        "showLink": true
       },
       "data": [
        {
         "colorscale": [
          [
           0,
           "rgb(158,1,66)"
          ],
          [
           0.1,
           "rgb(213,62,79)"
          ],
          [
           0.2,
           "rgb(244,109,67)"
          ],
          [
           0.3,
           "rgb(253,174,97)"
          ],
          [
           0.4,
           "rgb(254,224,139)"
          ],
          [
           0.5,
           "rgb(255,255,191)"
          ],
          [
           0.6,
           "rgb(230,245,152)"
          ],
          [
           0.7,
           "rgb(171,221,164)"
          ],
          [
           0.8,
           "rgb(102,194,165)"
          ],
          [
           0.9,
           "rgb(50,136,189)"
          ],
          [
           1,
           "rgb(94,79,162)"
          ]
         ],
         "type": "heatmap",
         "uid": "3c1e719b-1765-4dca-b325-16a88c797d75",
         "x": [
          "Mon",
          "Tue",
          "Wed",
          "Thu",
          "Fri",
          "Sat",
          "Sun"
         ],
         "y": [
          0,
          1,
          2,
          3,
          4,
          5,
          6,
          7,
          8,
          9,
          10,
          11,
          12,
          13,
          14,
          15,
          16,
          17,
          18,
          19,
          20,
          21,
          22,
          23
         ],
         "z": [
          [
           282,
           269,
           250,
           278,
           275,
           375,
           383
          ],
          [
           221,
           240,
           216,
           202,
           235,
           301,
           306
          ],
          [
           201,
           186,
           189,
           233,
           191,
           263,
           286
          ],
          [
           194,
           170,
           209,
           159,
           175,
           260,
           268
          ],
          [
           204,
           209,
           156,
           182,
           201,
           224,
           242
          ],
          [
           267,
           239,
           255,
           203,
           194,
           231,
           240
          ],
          [
           397,
           415,
           410,
           362,
           372,
           257,
           300
          ],
          [
           653,
           655,
           701,
           570,
           598,
           391,
           402
          ],
          [
           819,
           889,
           875,
           777,
           742,
           459,
           483
          ],
          [
           786,
           880,
           808,
           828,
           752,
           640,
           620
          ],
          [
           793,
           840,
           800,
           837,
           803,
           697,
           643
          ],
          [
           822,
           838,
           789,
           773,
           859,
           769,
           693
          ],
          [
           893,
           887,
           903,
           889,
           885,
           801,
           771
          ],
          [
           842,
           917,
           872,
           936,
           890,
           831,
           679
          ],
          [
           869,
           943,
           904,
           876,
           932,
           789,
           684
          ],
          [
           913,
           938,
           867,
           969,
           980,
           796,
           691
          ],
          [
           989,
           1026,
           990,
           935,
           1039,
           848,
           663
          ],
          [
           997,
           1019,
           1037,
           1013,
           980,
           757,
           714
          ],
          [
           885,
           905,
           894,
           810,
           820,
           778,
           670
          ],
          [
           746,
           731,
           686,
           698,
           696,
           696,
           655
          ],
          [
           613,
           647,
           668,
           617,
           667,
           628,
           537
          ],
          [
           497,
           571,
           575,
           553,
           559,
           572,
           461
          ],
          [
           472,
           462,
           490,
           424,
           514,
           506,
           415
          ],
          [
           325,
           274,
           335,
           354,
           474,
           467,
           330
          ]
         ],
         "zmax": 1039,
         "zmin": 156
        }
       ],
       "layout": {
        "height": 800,
        "title": {
         "text": "911 Calls - Heatmap of Day Time vs Day of Week"
        },
        "width": 900,
        "xaxis": {
         "tickmode": "auto",
         "title": {
          "text": "Day of Week"
         }
        },
        "yaxis": {
         "tickmode": "linear",
         "title": {
          "text": "Hour of Day"
         }
        }
       }
      },
      "text/html": [
       "<div id=\"932ed918-308f-4926-873c-2db0940a26f1\" style=\"height: 800px; width: 900px;\" class=\"plotly-graph-div\"></div><script type=\"text/javascript\">require([\"plotly\"], function(Plotly) { window.PLOTLYENV=window.PLOTLYENV || {};window.PLOTLYENV.BASE_URL=\"https://plot.ly\";Plotly.newPlot(\"932ed918-308f-4926-873c-2db0940a26f1\", [{\"colorscale\": [[0.0, \"rgb(158,1,66)\"], [0.1, \"rgb(213,62,79)\"], [0.2, \"rgb(244,109,67)\"], [0.3, \"rgb(253,174,97)\"], [0.4, \"rgb(254,224,139)\"], [0.5, \"rgb(255,255,191)\"], [0.6, \"rgb(230,245,152)\"], [0.7, \"rgb(171,221,164)\"], [0.8, \"rgb(102,194,165)\"], [0.9, \"rgb(50,136,189)\"], [1.0, \"rgb(94,79,162)\"]], \"x\": [\"Mon\", \"Tue\", \"Wed\", \"Thu\", \"Fri\", \"Sat\", \"Sun\"], \"y\": [0, 1, 2, 3, 4, 5, 6, 7, 8, 9, 10, 11, 12, 13, 14, 15, 16, 17, 18, 19, 20, 21, 22, 23], \"z\": [[282, 269, 250, 278, 275, 375, 383], [221, 240, 216, 202, 235, 301, 306], [201, 186, 189, 233, 191, 263, 286], [194, 170, 209, 159, 175, 260, 268], [204, 209, 156, 182, 201, 224, 242], [267, 239, 255, 203, 194, 231, 240], [397, 415, 410, 362, 372, 257, 300], [653, 655, 701, 570, 598, 391, 402], [819, 889, 875, 777, 742, 459, 483], [786, 880, 808, 828, 752, 640, 620], [793, 840, 800, 837, 803, 697, 643], [822, 838, 789, 773, 859, 769, 693], [893, 887, 903, 889, 885, 801, 771], [842, 917, 872, 936, 890, 831, 679], [869, 943, 904, 876, 932, 789, 684], [913, 938, 867, 969, 980, 796, 691], [989, 1026, 990, 935, 1039, 848, 663], [997, 1019, 1037, 1013, 980, 757, 714], [885, 905, 894, 810, 820, 778, 670], [746, 731, 686, 698, 696, 696, 655], [613, 647, 668, 617, 667, 628, 537], [497, 571, 575, 553, 559, 572, 461], [472, 462, 490, 424, 514, 506, 415], [325, 274, 335, 354, 474, 467, 330]], \"zmax\": 1039, \"zmin\": 156, \"type\": \"heatmap\", \"uid\": \"96bbb354-a5f7-4e10-b6c0-e219fb98654d\"}], {\"height\": 800, \"title\": {\"text\": \"911 Calls - Heatmap of Day Time vs Day of Week\"}, \"width\": 900, \"xaxis\": {\"tickmode\": \"auto\", \"title\": {\"text\": \"Day of Week\"}}, \"yaxis\": {\"tickmode\": \"linear\", \"title\": {\"text\": \"Hour of Day\"}}}, {\"showLink\": true, \"linkText\": \"Export to plot.ly\", \"plotlyServerURL\": \"https://plot.ly\"})});</script>"
      ],
      "text/vnd.plotly.v1+html": [
       "<div id=\"932ed918-308f-4926-873c-2db0940a26f1\" style=\"height: 800px; width: 900px;\" class=\"plotly-graph-div\"></div><script type=\"text/javascript\">require([\"plotly\"], function(Plotly) { window.PLOTLYENV=window.PLOTLYENV || {};window.PLOTLYENV.BASE_URL=\"https://plot.ly\";Plotly.newPlot(\"932ed918-308f-4926-873c-2db0940a26f1\", [{\"colorscale\": [[0.0, \"rgb(158,1,66)\"], [0.1, \"rgb(213,62,79)\"], [0.2, \"rgb(244,109,67)\"], [0.3, \"rgb(253,174,97)\"], [0.4, \"rgb(254,224,139)\"], [0.5, \"rgb(255,255,191)\"], [0.6, \"rgb(230,245,152)\"], [0.7, \"rgb(171,221,164)\"], [0.8, \"rgb(102,194,165)\"], [0.9, \"rgb(50,136,189)\"], [1.0, \"rgb(94,79,162)\"]], \"x\": [\"Mon\", \"Tue\", \"Wed\", \"Thu\", \"Fri\", \"Sat\", \"Sun\"], \"y\": [0, 1, 2, 3, 4, 5, 6, 7, 8, 9, 10, 11, 12, 13, 14, 15, 16, 17, 18, 19, 20, 21, 22, 23], \"z\": [[282, 269, 250, 278, 275, 375, 383], [221, 240, 216, 202, 235, 301, 306], [201, 186, 189, 233, 191, 263, 286], [194, 170, 209, 159, 175, 260, 268], [204, 209, 156, 182, 201, 224, 242], [267, 239, 255, 203, 194, 231, 240], [397, 415, 410, 362, 372, 257, 300], [653, 655, 701, 570, 598, 391, 402], [819, 889, 875, 777, 742, 459, 483], [786, 880, 808, 828, 752, 640, 620], [793, 840, 800, 837, 803, 697, 643], [822, 838, 789, 773, 859, 769, 693], [893, 887, 903, 889, 885, 801, 771], [842, 917, 872, 936, 890, 831, 679], [869, 943, 904, 876, 932, 789, 684], [913, 938, 867, 969, 980, 796, 691], [989, 1026, 990, 935, 1039, 848, 663], [997, 1019, 1037, 1013, 980, 757, 714], [885, 905, 894, 810, 820, 778, 670], [746, 731, 686, 698, 696, 696, 655], [613, 647, 668, 617, 667, 628, 537], [497, 571, 575, 553, 559, 572, 461], [472, 462, 490, 424, 514, 506, 415], [325, 274, 335, 354, 474, 467, 330]], \"zmax\": 1039, \"zmin\": 156, \"type\": \"heatmap\", \"uid\": \"96bbb354-a5f7-4e10-b6c0-e219fb98654d\"}], {\"height\": 800, \"title\": {\"text\": \"911 Calls - Heatmap of Day Time vs Day of Week\"}, \"width\": 900, \"xaxis\": {\"tickmode\": \"auto\", \"title\": {\"text\": \"Day of Week\"}}, \"yaxis\": {\"tickmode\": \"linear\", \"title\": {\"text\": \"Hour of Day\"}}}, {\"showLink\": true, \"linkText\": \"Export to plot.ly\", \"plotlyServerURL\": \"https://plot.ly\"})});</script>"
      ]
     },
     "metadata": {},
     "output_type": "display_data"
    }
   ],
   "source": [
    "layout={'title':'911 Calls - Heatmap of Day Time vs Day of Week',\n",
    "        'width':900,'height':800,\n",
    "        'xaxis':{'title':'Day of Week','tickmode':'auto'},\n",
    "        'yaxis':{'title':'Hour of Day','tickmode':'linear'}}\n",
    "dayHour.iplot(kind='heatmap',colorscale='spectral',layout=layout)"
   ]
  },
  {
   "cell_type": "code",
   "execution_count": 26,
   "metadata": {},
   "outputs": [],
   "source": [
    "monthHour = df1.groupby(by=['Month','Hour']).count()['Reason'].unstack()"
   ]
  },
  {
   "cell_type": "code",
   "execution_count": 27,
   "metadata": {
    "scrolled": false
   },
   "outputs": [
    {
     "data": {
      "application/vnd.plotly.v1+json": {
       "config": {
        "linkText": "Export to plot.ly",
        "plotlyServerURL": "https://plot.ly",
        "showLink": true
       },
       "data": [
        {
         "colorscale": [
          [
           0,
           "rgb(158,1,66)"
          ],
          [
           0.1,
           "rgb(213,62,79)"
          ],
          [
           0.2,
           "rgb(244,109,67)"
          ],
          [
           0.3,
           "rgb(253,174,97)"
          ],
          [
           0.4,
           "rgb(254,224,139)"
          ],
          [
           0.5,
           "rgb(255,255,191)"
          ],
          [
           0.6,
           "rgb(230,245,152)"
          ],
          [
           0.7,
           "rgb(171,221,164)"
          ],
          [
           0.8,
           "rgb(102,194,165)"
          ],
          [
           0.9,
           "rgb(50,136,189)"
          ],
          [
           1,
           "rgb(94,79,162)"
          ]
         ],
         "type": "heatmap",
         "uid": "f24d38be-5815-45f1-bc4a-25966e0bd5a8",
         "x": [
          1,
          2,
          3,
          4,
          5,
          6,
          7,
          8,
          12
         ],
         "y": [
          0,
          1,
          2,
          3,
          4,
          5,
          6,
          7,
          8,
          9,
          10,
          11,
          12,
          13,
          14,
          15,
          16,
          17,
          18,
          19,
          20,
          21,
          22,
          23
         ],
         "z": [
          [
           294,
           267,
           214,
           243,
           255,
           229,
           241,
           219,
           150
          ],
          [
           218,
           194,
           181,
           204,
           195,
           192,
           224,
           182,
           131
          ],
          [
           225,
           161,
           194,
           170,
           158,
           168,
           181,
           166,
           126
          ],
          [
           205,
           149,
           149,
           161,
           173,
           157,
           188,
           135,
           118
          ],
          [
           205,
           161,
           152,
           179,
           160,
           148,
           177,
           131,
           105
          ],
          [
           214,
           213,
           181,
           178,
           196,
           172,
           196,
           144,
           135
          ],
          [
           386,
           325,
           291,
           316,
           254,
           290,
           279,
           188,
           184
          ],
          [
           551,
           550,
           487,
           482,
           439,
           436,
           431,
           326,
           268
          ],
          [
           755,
           597,
           556,
           613,
           605,
           565,
           545,
           466,
           342
          ],
          [
           752,
           603,
           614,
           598,
           644,
           630,
           635,
           465,
           373
          ],
          [
           660,
           620,
           649,
           607,
           584,
           637,
           645,
           578,
           433
          ],
          [
           775,
           582,
           612,
           609,
           709,
           667,
           636,
           519,
           434
          ],
          [
           788,
           634,
           648,
           725,
           721,
           777,
           738,
           522,
           476
          ],
          [
           765,
           698,
           662,
           694,
           672,
           726,
           729,
           548,
           473
          ],
          [
           775,
           648,
           672,
           705,
           640,
           726,
           791,
           552,
           488
          ],
          [
           691,
           704,
           707,
           728,
           746,
           767,
           744,
           612,
           455
          ],
          [
           725,
           692,
           782,
           767,
           728,
           817,
           815,
           656,
           508
          ],
          [
           871,
           674,
           676,
           728,
           787,
           769,
           826,
           564,
           622
          ],
          [
           798,
           693,
           600,
           646,
           608,
           693,
           675,
           476,
           573
          ],
          [
           687,
           578,
           547,
           533,
           510,
           563,
           652,
           419,
           419
          ],
          [
           592,
           518,
           493,
           472,
           489,
           496,
           583,
           373,
           361
          ],
          [
           507,
           453,
           402,
           377,
           462,
           456,
           481,
           345,
           305
          ],
          [
           421,
           426,
           359,
           309,
           405,
           399,
           433,
           245,
           286
          ],
          [
           345,
           327,
           273,
           282,
           283,
           306,
           292,
           247,
           204
          ]
         ],
         "zmax": 871,
         "zmin": 105
        }
       ],
       "layout": {
        "height": 800,
        "title": {
         "text": "911 Calls - Heatmap of Day Time vs Month"
        },
        "width": 900,
        "xaxis": {
         "tickformat": " ",
         "tickmode": "linear",
         "title": {
          "text": "Month"
         },
         "type": "category"
        },
        "yaxis": {
         "tickmode": "linear",
         "title": {
          "text": "Hour of Day"
         }
        }
       }
      },
      "text/html": [
       "<div id=\"f012098d-8a95-4ff1-8b20-9262d22bf6db\" style=\"height: 800px; width: 900px;\" class=\"plotly-graph-div\"></div><script type=\"text/javascript\">require([\"plotly\"], function(Plotly) { window.PLOTLYENV=window.PLOTLYENV || {};window.PLOTLYENV.BASE_URL=\"https://plot.ly\";Plotly.newPlot(\"f012098d-8a95-4ff1-8b20-9262d22bf6db\", [{\"colorscale\": [[0.0, \"rgb(158,1,66)\"], [0.1, \"rgb(213,62,79)\"], [0.2, \"rgb(244,109,67)\"], [0.3, \"rgb(253,174,97)\"], [0.4, \"rgb(254,224,139)\"], [0.5, \"rgb(255,255,191)\"], [0.6, \"rgb(230,245,152)\"], [0.7, \"rgb(171,221,164)\"], [0.8, \"rgb(102,194,165)\"], [0.9, \"rgb(50,136,189)\"], [1.0, \"rgb(94,79,162)\"]], \"x\": [1, 2, 3, 4, 5, 6, 7, 8, 12], \"y\": [0, 1, 2, 3, 4, 5, 6, 7, 8, 9, 10, 11, 12, 13, 14, 15, 16, 17, 18, 19, 20, 21, 22, 23], \"z\": [[294, 267, 214, 243, 255, 229, 241, 219, 150], [218, 194, 181, 204, 195, 192, 224, 182, 131], [225, 161, 194, 170, 158, 168, 181, 166, 126], [205, 149, 149, 161, 173, 157, 188, 135, 118], [205, 161, 152, 179, 160, 148, 177, 131, 105], [214, 213, 181, 178, 196, 172, 196, 144, 135], [386, 325, 291, 316, 254, 290, 279, 188, 184], [551, 550, 487, 482, 439, 436, 431, 326, 268], [755, 597, 556, 613, 605, 565, 545, 466, 342], [752, 603, 614, 598, 644, 630, 635, 465, 373], [660, 620, 649, 607, 584, 637, 645, 578, 433], [775, 582, 612, 609, 709, 667, 636, 519, 434], [788, 634, 648, 725, 721, 777, 738, 522, 476], [765, 698, 662, 694, 672, 726, 729, 548, 473], [775, 648, 672, 705, 640, 726, 791, 552, 488], [691, 704, 707, 728, 746, 767, 744, 612, 455], [725, 692, 782, 767, 728, 817, 815, 656, 508], [871, 674, 676, 728, 787, 769, 826, 564, 622], [798, 693, 600, 646, 608, 693, 675, 476, 573], [687, 578, 547, 533, 510, 563, 652, 419, 419], [592, 518, 493, 472, 489, 496, 583, 373, 361], [507, 453, 402, 377, 462, 456, 481, 345, 305], [421, 426, 359, 309, 405, 399, 433, 245, 286], [345, 327, 273, 282, 283, 306, 292, 247, 204]], \"zmax\": 871, \"zmin\": 105, \"type\": \"heatmap\", \"uid\": \"3f0cfe30-19ac-49fe-b9d1-c3f026af6cd2\"}], {\"height\": 800, \"title\": {\"text\": \"911 Calls - Heatmap of Day Time vs Month\"}, \"width\": 900, \"xaxis\": {\"tickformat\": \" \", \"tickmode\": \"linear\", \"title\": {\"text\": \"Month\"}, \"type\": \"category\"}, \"yaxis\": {\"tickmode\": \"linear\", \"title\": {\"text\": \"Hour of Day\"}}}, {\"showLink\": true, \"linkText\": \"Export to plot.ly\", \"plotlyServerURL\": \"https://plot.ly\"})});</script>"
      ],
      "text/vnd.plotly.v1+html": [
       "<div id=\"f012098d-8a95-4ff1-8b20-9262d22bf6db\" style=\"height: 800px; width: 900px;\" class=\"plotly-graph-div\"></div><script type=\"text/javascript\">require([\"plotly\"], function(Plotly) { window.PLOTLYENV=window.PLOTLYENV || {};window.PLOTLYENV.BASE_URL=\"https://plot.ly\";Plotly.newPlot(\"f012098d-8a95-4ff1-8b20-9262d22bf6db\", [{\"colorscale\": [[0.0, \"rgb(158,1,66)\"], [0.1, \"rgb(213,62,79)\"], [0.2, \"rgb(244,109,67)\"], [0.3, \"rgb(253,174,97)\"], [0.4, \"rgb(254,224,139)\"], [0.5, \"rgb(255,255,191)\"], [0.6, \"rgb(230,245,152)\"], [0.7, \"rgb(171,221,164)\"], [0.8, \"rgb(102,194,165)\"], [0.9, \"rgb(50,136,189)\"], [1.0, \"rgb(94,79,162)\"]], \"x\": [1, 2, 3, 4, 5, 6, 7, 8, 12], \"y\": [0, 1, 2, 3, 4, 5, 6, 7, 8, 9, 10, 11, 12, 13, 14, 15, 16, 17, 18, 19, 20, 21, 22, 23], \"z\": [[294, 267, 214, 243, 255, 229, 241, 219, 150], [218, 194, 181, 204, 195, 192, 224, 182, 131], [225, 161, 194, 170, 158, 168, 181, 166, 126], [205, 149, 149, 161, 173, 157, 188, 135, 118], [205, 161, 152, 179, 160, 148, 177, 131, 105], [214, 213, 181, 178, 196, 172, 196, 144, 135], [386, 325, 291, 316, 254, 290, 279, 188, 184], [551, 550, 487, 482, 439, 436, 431, 326, 268], [755, 597, 556, 613, 605, 565, 545, 466, 342], [752, 603, 614, 598, 644, 630, 635, 465, 373], [660, 620, 649, 607, 584, 637, 645, 578, 433], [775, 582, 612, 609, 709, 667, 636, 519, 434], [788, 634, 648, 725, 721, 777, 738, 522, 476], [765, 698, 662, 694, 672, 726, 729, 548, 473], [775, 648, 672, 705, 640, 726, 791, 552, 488], [691, 704, 707, 728, 746, 767, 744, 612, 455], [725, 692, 782, 767, 728, 817, 815, 656, 508], [871, 674, 676, 728, 787, 769, 826, 564, 622], [798, 693, 600, 646, 608, 693, 675, 476, 573], [687, 578, 547, 533, 510, 563, 652, 419, 419], [592, 518, 493, 472, 489, 496, 583, 373, 361], [507, 453, 402, 377, 462, 456, 481, 345, 305], [421, 426, 359, 309, 405, 399, 433, 245, 286], [345, 327, 273, 282, 283, 306, 292, 247, 204]], \"zmax\": 871, \"zmin\": 105, \"type\": \"heatmap\", \"uid\": \"3f0cfe30-19ac-49fe-b9d1-c3f026af6cd2\"}], {\"height\": 800, \"title\": {\"text\": \"911 Calls - Heatmap of Day Time vs Month\"}, \"width\": 900, \"xaxis\": {\"tickformat\": \" \", \"tickmode\": \"linear\", \"title\": {\"text\": \"Month\"}, \"type\": \"category\"}, \"yaxis\": {\"tickmode\": \"linear\", \"title\": {\"text\": \"Hour of Day\"}}}, {\"showLink\": true, \"linkText\": \"Export to plot.ly\", \"plotlyServerURL\": \"https://plot.ly\"})});</script>"
      ]
     },
     "metadata": {},
     "output_type": "display_data"
    }
   ],
   "source": [
    "layout={'title':'911 Calls - Heatmap of Day Time vs Month',\n",
    "        'width':900,'height':800,\n",
    "        'xaxis':{'title':'Month','tickmode':'linear','tickformat':' ','type':'category'},\n",
    "        'yaxis':{'title':'Hour of Day','tickmode':'linear'}}\n",
    "monthHour.iplot(kind='heatmap',colorscale='spectral',layout=layout)"
   ]
  },
  {
   "cell_type": "code",
   "execution_count": 28,
   "metadata": {},
   "outputs": [
    {
     "data": {
      "application/vnd.plotly.v1+json": {
       "config": {
        "linkText": "Export to plot.ly",
        "plotlyServerURL": "https://plot.ly",
        "showLink": true
       },
       "data": [
        {
         "marker": {
          "color": "rgba(255, 153, 51, 0.6)",
          "line": {
           "color": "rgba(255, 153, 51, 1.0)",
           "width": 1
          }
         },
         "name": "EMS",
         "orientation": "v",
         "text": "",
         "type": "bar",
         "uid": "da1497ce-4c75-444e-a54b-b7799f473af0",
         "x": [
          0,
          1,
          2,
          3,
          4,
          5,
          6,
          7,
          8,
          9,
          10,
          11,
          12,
          13,
          14,
          15,
          16,
          17,
          18,
          19,
          20,
          21,
          22,
          23
         ],
         "y": [
          1249,
          1073,
          1022,
          963,
          944,
          961,
          1340,
          1755,
          2284,
          2672,
          2954,
          2842,
          2983,
          2907,
          2826,
          2589,
          2662,
          2615,
          2441,
          2424,
          2243,
          1935,
          1759,
          1434
         ]
        },
        {
         "marker": {
          "color": "rgba(55, 128, 191, 0.6)",
          "line": {
           "color": "rgba(55, 128, 191, 1.0)",
           "width": 1
          }
         },
         "name": "Fire",
         "orientation": "v",
         "text": "",
         "type": "bar",
         "uid": "98f95bcc-5aae-420d-b0c3-618dd7c456c9",
         "x": [
          0,
          1,
          2,
          3,
          4,
          5,
          6,
          7,
          8,
          9,
          10,
          11,
          12,
          13,
          14,
          15,
          16,
          17,
          18,
          19,
          20,
          21,
          22,
          23
         ],
         "y": [
          319,
          243,
          204,
          206,
          199,
          256,
          332,
          514,
          700,
          748,
          815,
          848,
          837,
          858,
          872,
          891,
          895,
          949,
          1007,
          846,
          789,
          631,
          537,
          424
         ]
        },
        {
         "marker": {
          "color": "rgba(50, 171, 96, 0.6)",
          "line": {
           "color": "rgba(50, 171, 96, 1.0)",
           "width": 1
          }
         },
         "name": "Traffic",
         "orientation": "v",
         "text": "",
         "type": "bar",
         "uid": "d7d3b17a-d056-4b76-bc5d-bb8182e916dc",
         "x": [
          0,
          1,
          2,
          3,
          4,
          5,
          6,
          7,
          8,
          9,
          10,
          11,
          12,
          13,
          14,
          15,
          16,
          17,
          18,
          19,
          20,
          21,
          22,
          23
         ],
         "y": [
          544,
          405,
          323,
          266,
          275,
          412,
          841,
          1701,
          2060,
          1894,
          1644,
          1853,
          2209,
          2202,
          2299,
          2674,
          2933,
          2953,
          2314,
          1638,
          1345,
          1222,
          987,
          701
         ]
        }
       ],
       "layout": {
        "barmode": "stack",
        "height": 500,
        "title": {
         "text": "911 Calls - Total Day Time on Call Reason"
        },
        "width": 900,
        "xaxis": {
         "tickformat": " ",
         "tickmode": "linear",
         "title": {
          "text": "Hour of Day"
         },
         "type": "category"
        },
        "yaxis": {
         "title": {
          "text": "Count"
         }
        }
       }
      },
      "text/html": [
       "<div id=\"164de673-fb52-41a6-a25d-972dc0874514\" style=\"height: 500px; width: 900px;\" class=\"plotly-graph-div\"></div><script type=\"text/javascript\">require([\"plotly\"], function(Plotly) { window.PLOTLYENV=window.PLOTLYENV || {};window.PLOTLYENV.BASE_URL=\"https://plot.ly\";Plotly.newPlot(\"164de673-fb52-41a6-a25d-972dc0874514\", [{\"marker\": {\"color\": \"rgba(255, 153, 51, 0.6)\", \"line\": {\"color\": \"rgba(255, 153, 51, 1.0)\", \"width\": 1}}, \"name\": \"EMS\", \"orientation\": \"v\", \"text\": \"\", \"x\": [0, 1, 2, 3, 4, 5, 6, 7, 8, 9, 10, 11, 12, 13, 14, 15, 16, 17, 18, 19, 20, 21, 22, 23], \"y\": [1249, 1073, 1022, 963, 944, 961, 1340, 1755, 2284, 2672, 2954, 2842, 2983, 2907, 2826, 2589, 2662, 2615, 2441, 2424, 2243, 1935, 1759, 1434], \"type\": \"bar\", \"uid\": \"1a0dd5ec-ffb0-402e-bf71-344b99a99273\"}, {\"marker\": {\"color\": \"rgba(55, 128, 191, 0.6)\", \"line\": {\"color\": \"rgba(55, 128, 191, 1.0)\", \"width\": 1}}, \"name\": \"Fire\", \"orientation\": \"v\", \"text\": \"\", \"x\": [0, 1, 2, 3, 4, 5, 6, 7, 8, 9, 10, 11, 12, 13, 14, 15, 16, 17, 18, 19, 20, 21, 22, 23], \"y\": [319, 243, 204, 206, 199, 256, 332, 514, 700, 748, 815, 848, 837, 858, 872, 891, 895, 949, 1007, 846, 789, 631, 537, 424], \"type\": \"bar\", \"uid\": \"f4cabbbb-e7d6-4d05-a16a-cd01534b7ce4\"}, {\"marker\": {\"color\": \"rgba(50, 171, 96, 0.6)\", \"line\": {\"color\": \"rgba(50, 171, 96, 1.0)\", \"width\": 1}}, \"name\": \"Traffic\", \"orientation\": \"v\", \"text\": \"\", \"x\": [0, 1, 2, 3, 4, 5, 6, 7, 8, 9, 10, 11, 12, 13, 14, 15, 16, 17, 18, 19, 20, 21, 22, 23], \"y\": [544, 405, 323, 266, 275, 412, 841, 1701, 2060, 1894, 1644, 1853, 2209, 2202, 2299, 2674, 2933, 2953, 2314, 1638, 1345, 1222, 987, 701], \"type\": \"bar\", \"uid\": \"b3ff19fb-c5d0-4069-868b-5e7d97be8fa6\"}], {\"barmode\": \"stack\", \"height\": 500, \"title\": {\"text\": \"911 Calls - Total Day Time on Call Reason\"}, \"width\": 900, \"xaxis\": {\"tickformat\": \" \", \"tickmode\": \"linear\", \"title\": {\"text\": \"Hour of Day\"}, \"type\": \"category\"}, \"yaxis\": {\"title\": {\"text\": \"Count\"}}}, {\"showLink\": true, \"linkText\": \"Export to plot.ly\", \"plotlyServerURL\": \"https://plot.ly\"})});</script>"
      ],
      "text/vnd.plotly.v1+html": [
       "<div id=\"164de673-fb52-41a6-a25d-972dc0874514\" style=\"height: 500px; width: 900px;\" class=\"plotly-graph-div\"></div><script type=\"text/javascript\">require([\"plotly\"], function(Plotly) { window.PLOTLYENV=window.PLOTLYENV || {};window.PLOTLYENV.BASE_URL=\"https://plot.ly\";Plotly.newPlot(\"164de673-fb52-41a6-a25d-972dc0874514\", [{\"marker\": {\"color\": \"rgba(255, 153, 51, 0.6)\", \"line\": {\"color\": \"rgba(255, 153, 51, 1.0)\", \"width\": 1}}, \"name\": \"EMS\", \"orientation\": \"v\", \"text\": \"\", \"x\": [0, 1, 2, 3, 4, 5, 6, 7, 8, 9, 10, 11, 12, 13, 14, 15, 16, 17, 18, 19, 20, 21, 22, 23], \"y\": [1249, 1073, 1022, 963, 944, 961, 1340, 1755, 2284, 2672, 2954, 2842, 2983, 2907, 2826, 2589, 2662, 2615, 2441, 2424, 2243, 1935, 1759, 1434], \"type\": \"bar\", \"uid\": \"1a0dd5ec-ffb0-402e-bf71-344b99a99273\"}, {\"marker\": {\"color\": \"rgba(55, 128, 191, 0.6)\", \"line\": {\"color\": \"rgba(55, 128, 191, 1.0)\", \"width\": 1}}, \"name\": \"Fire\", \"orientation\": \"v\", \"text\": \"\", \"x\": [0, 1, 2, 3, 4, 5, 6, 7, 8, 9, 10, 11, 12, 13, 14, 15, 16, 17, 18, 19, 20, 21, 22, 23], \"y\": [319, 243, 204, 206, 199, 256, 332, 514, 700, 748, 815, 848, 837, 858, 872, 891, 895, 949, 1007, 846, 789, 631, 537, 424], \"type\": \"bar\", \"uid\": \"f4cabbbb-e7d6-4d05-a16a-cd01534b7ce4\"}, {\"marker\": {\"color\": \"rgba(50, 171, 96, 0.6)\", \"line\": {\"color\": \"rgba(50, 171, 96, 1.0)\", \"width\": 1}}, \"name\": \"Traffic\", \"orientation\": \"v\", \"text\": \"\", \"x\": [0, 1, 2, 3, 4, 5, 6, 7, 8, 9, 10, 11, 12, 13, 14, 15, 16, 17, 18, 19, 20, 21, 22, 23], \"y\": [544, 405, 323, 266, 275, 412, 841, 1701, 2060, 1894, 1644, 1853, 2209, 2202, 2299, 2674, 2933, 2953, 2314, 1638, 1345, 1222, 987, 701], \"type\": \"bar\", \"uid\": \"b3ff19fb-c5d0-4069-868b-5e7d97be8fa6\"}], {\"barmode\": \"stack\", \"height\": 500, \"title\": {\"text\": \"911 Calls - Total Day Time on Call Reason\"}, \"width\": 900, \"xaxis\": {\"tickformat\": \" \", \"tickmode\": \"linear\", \"title\": {\"text\": \"Hour of Day\"}, \"type\": \"category\"}, \"yaxis\": {\"title\": {\"text\": \"Count\"}}}, {\"showLink\": true, \"linkText\": \"Export to plot.ly\", \"plotlyServerURL\": \"https://plot.ly\"})});</script>"
      ]
     },
     "metadata": {},
     "output_type": "display_data"
    }
   ],
   "source": [
    "layout={'title':'911 Calls - Total Day Time on Call Reason',\n",
    "        'barmode':'stack','width':900,'height':500,\n",
    "        'xaxis':{'title':'Hour of Day','tickmode':'linear','tickformat':' ','type':'category'},\n",
    "        'yaxis':{'title':'Count'}}\n",
    "df1.groupby(['Hour','Reason']).count()['Issue'].unstack().iplot(kind='bar',layout=layout)"
   ]
  },
  {
   "cell_type": "code",
   "execution_count": null,
   "metadata": {},
   "outputs": [],
   "source": []
  }
 ],
 "metadata": {
  "kernelspec": {
   "display_name": "Python 3",
   "language": "python",
   "name": "python3"
  },
  "language_info": {
   "codemirror_mode": {
    "name": "ipython",
    "version": 3
   },
   "file_extension": ".py",
   "mimetype": "text/x-python",
   "name": "python",
   "nbconvert_exporter": "python",
   "pygments_lexer": "ipython3",
   "version": "3.7.1"
  }
 },
 "nbformat": 4,
 "nbformat_minor": 1
}
